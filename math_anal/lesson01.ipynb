{
 "cells": [
  {
   "cell_type": "markdown",
   "metadata": {},
   "source": [
    "### Введение в математический анализ. Урок 1. “Множество. Последовательность”."
   ]
  },
  {
   "cell_type": "markdown",
   "metadata": {},
   "source": [
    "#### 1. Даны три множества a,b и с. Необходимо выполнить все изученные виды бинарных операций над всеми комбинациями множеств."
   ]
  },
  {
   "cell_type": "markdown",
   "metadata": {},
   "source": [
    "a = {1, 2, 3}\n",
    "\n",
    "b = {2, 1, 4}\n",
    "\n",
    "c = {5, 4, 2}\n",
    "\n",
    "\n",
    "a | b = {1, 2, 3, 4}\n",
    "\n",
    "a | c = {1, 2, 3, 4, 5}\n",
    "\n",
    "c | b = {1, 2, 4, 5}\n",
    "\n",
    "a & b = {1, 2}\n",
    "\n",
    "a & c = {2}\n",
    "\n",
    "b & c = {2, 4}\n",
    "\n",
    "a ^ b = {3, 4}\n",
    "\n",
    "a ^ c = {1, 3, 4, 5}\n",
    "\n",
    "b ^ c = {1, 5}"
   ]
  },
  {
   "cell_type": "markdown",
   "metadata": {},
   "source": [
    "#### 2.Выполнить задание 1 на языке Python"
   ]
  },
  {
   "cell_type": "code",
   "execution_count": 1,
   "metadata": {},
   "outputs": [],
   "source": [
    "a = {1, 2, 3}\n",
    "b = {2, 1, 4}\n",
    "c = {5, 4, 2}"
   ]
  },
  {
   "cell_type": "code",
   "execution_count": 2,
   "metadata": {},
   "outputs": [
    {
     "name": "stdout",
     "output_type": "stream",
     "text": [
      "Объединение a и b: {1, 2, 3, 4}\n",
      "Объединение a и c: {1, 2, 3, 4, 5}\n",
      "Объединение c и b: {1, 2, 4, 5}\n",
      "Пересечение a и b: {1, 2}\n",
      "Пересечение a и b: {2}\n",
      "Пересечение a и b: {2, 4}\n",
      "Симметрическая разность a и b: {3, 4}\n",
      "Симметрическая разность a и c: {1, 3, 4, 5}\n",
      "Симметрическая разность b и c: {1, 5}\n"
     ]
    }
   ],
   "source": [
    "print(\"Объединение a и b:\", a.union(b))\n",
    "print(\"Объединение a и c:\", a.union(c))\n",
    "print(\"Объединение c и b:\", b.union(c))\n",
    "print(\"Пересечение a и b:\", a.intersection(b))\n",
    "print(\"Пересечение a и b:\", a.intersection(c))\n",
    "print(\"Пересечение a и b:\", b.intersection(c))\n",
    "print(\"Симметрическая разность a и b:\", a.symmetric_difference(b))\n",
    "print(\"Симметрическая разность a и c:\", a.symmetric_difference(c))\n",
    "print(\"Симметрическая разность b и c:\", b.symmetric_difference(c))"
   ]
  },
  {
   "cell_type": "markdown",
   "metadata": {},
   "source": [
    "#### Задание 3.\n",
    "#### 1) исследовать их на монотонность; \n",
    "#### 2) исследовать на ограниченность;\n",
    "#### 3) найти пятый по счету член."
   ]
  },
  {
   "cell_type": "markdown",
   "metadata": {},
   "source": [
    "$$\\{a_{n}\\}_{n=1}^{\\infty}=2^{n}-n$$"
   ]
  },
  {
   "cell_type": "markdown",
   "metadata": {},
   "source": [
    "1. Возрастает на всем диапазоне.\n",
    "2. Точка минимума a = 1"
   ]
  },
  {
   "cell_type": "code",
   "execution_count": 3,
   "metadata": {},
   "outputs": [
    {
     "name": "stdout",
     "output_type": "stream",
     "text": [
      "1 1\n",
      "2 2\n",
      "3 5\n",
      "4 12\n",
      "5 27\n"
     ]
    }
   ],
   "source": [
    "for i in range(1, 6):\n",
    "    a = 2**i - i\n",
    "    print(i, a)"
   ]
  },
  {
   "cell_type": "markdown",
   "metadata": {},
   "source": [
    "$$\\{b_{n}\\}_{n=2}^{\\infty}=\\frac{1}{1-n}$$"
   ]
  },
  {
   "cell_type": "markdown",
   "metadata": {},
   "source": [
    "1. Убывает на всем диапазоне.\n",
    "2. Точка максимума b = 2"
   ]
  },
  {
   "cell_type": "code",
   "execution_count": 4,
   "metadata": {},
   "outputs": [
    {
     "name": "stdout",
     "output_type": "stream",
     "text": [
      "1 -1.0\n",
      "2 -0.5\n",
      "3 -0.3333333333333333\n",
      "4 -0.25\n",
      "5 -0.2\n"
     ]
    }
   ],
   "source": [
    "n = 1\n",
    "for i in range(2, 7):\n",
    "    b = 1/(1 - i)\n",
    "    print(n, b)\n",
    "    n += 1"
   ]
  },
  {
   "cell_type": "markdown",
   "metadata": {},
   "source": [
    "$$\\{c_{n}\\}_{n=1}^{\\infty}=-1^{n}+\\sqrt{2n}$$"
   ]
  },
  {
   "cell_type": "markdown",
   "metadata": {},
   "source": [
    "1. Возрастает на всем диапазоне.\n",
    "2. Точка минимума c = 1"
   ]
  },
  {
   "cell_type": "code",
   "execution_count": 5,
   "metadata": {},
   "outputs": [
    {
     "name": "stdout",
     "output_type": "stream",
     "text": [
      "1 0.41421356237309515\n",
      "2 1.0\n",
      "3 1.4494897427831779\n",
      "4 1.8284271247461903\n",
      "5 2.1622776601683795\n"
     ]
    }
   ],
   "source": [
    "for i in range(1, 6):\n",
    "    c = -1**i+(2*i)**0.5\n",
    "    print(i, c)"
   ]
  },
  {
   "cell_type": "markdown",
   "metadata": {},
   "source": [
    "$$\\{d_{n}\\}_{n=1}^{\\infty}=(-1)^{2n}+\\frac{1}{n^{2}}$$"
   ]
  },
  {
   "cell_type": "markdown",
   "metadata": {},
   "source": [
    "1. Возрастает на всем диапазоне.\n",
    "2. Точка минимума d = 1"
   ]
  },
  {
   "cell_type": "code",
   "execution_count": 6,
   "metadata": {},
   "outputs": [
    {
     "name": "stdout",
     "output_type": "stream",
     "text": [
      "1 2.0\n",
      "2 2.25\n",
      "3 3.111111111111111\n",
      "4 4.0625\n",
      "5 5.04\n"
     ]
    }
   ],
   "source": [
    "for i in range(1, 6):\n",
    "    d = ((-1)**2*i)+(1/i**2)\n",
    "    print(i, d)"
   ]
  },
  {
   "cell_type": "markdown",
   "metadata": {},
   "source": [
    "#### Задание 4  \n",
    "#### $$a_{1}=128, a_{n+1}-a_{n}=6$$\n",
    "#### найти 12-й член заданной неявно последовательности\n"
   ]
  },
  {
   "cell_type": "markdown",
   "metadata": {},
   "source": [
    "128, 134, 140, 146, 152, 158"
   ]
  },
  {
   "cell_type": "code",
   "execution_count": 7,
   "metadata": {},
   "outputs": [
    {
     "name": "stdout",
     "output_type": "stream",
     "text": [
      "12-й член: 194\n"
     ]
    }
   ],
   "source": [
    "a = 128\n",
    "for n in range(1, 13):\n",
    "    if n == 12:\n",
    "        print(\"12-й член:\", a)\n",
    "    a += 6"
   ]
  }
 ],
 "metadata": {
  "kernelspec": {
   "display_name": "Python 3",
   "language": "python",
   "name": "python3"
  },
  "language_info": {
   "codemirror_mode": {
    "name": "ipython",
    "version": 3
   },
   "file_extension": ".py",
   "mimetype": "text/x-python",
   "name": "python",
   "nbconvert_exporter": "python",
   "pygments_lexer": "ipython3",
   "version": "3.7.1"
  }
 },
 "nbformat": 4,
 "nbformat_minor": 2
}
