{
 "cells": [
  {
   "cell_type": "markdown",
   "metadata": {},
   "source": [
    "## Введение в математический анализ.\n",
    "#### Урок 5. Понятие о производной. Ряды."
   ]
  },
  {
   "cell_type": "markdown",
   "metadata": {},
   "source": [
    "#### Найти производную выражения:"
   ]
  },
  {
   "cell_type": "markdown",
   "metadata": {},
   "source": [
    "#### 1."
   ]
  },
  {
   "cell_type": "markdown",
   "metadata": {},
   "source": [
    "$sin x * cos x$"
   ]
  },
  {
   "cell_type": "markdown",
   "metadata": {},
   "source": [
    "$(cos(x))' = -sin(x)$\n",
    "\n",
    "$(sin(x))' = cos(x)$\n",
    "\n",
    "#### Ответ: $(sin(x) * cos(x))' = (cos(x))'sin(x)+cos(x)*(sin(x))' = -sin(x)*sin(x) + cos(x)*cos(x) = -sin(x)^{2} + cos(x)^{2}$"
   ]
  },
  {
   "cell_type": "markdown",
   "metadata": {},
   "source": [
    "#### 2."
   ]
  },
  {
   "cell_type": "markdown",
   "metadata": {},
   "source": [
    "$ln(2x+1)^{3}$"
   ]
  },
  {
   "cell_type": "markdown",
   "metadata": {},
   "source": [
    "$(f(g(x)))' = f(x)'*g(x)'$"
   ]
  },
  {
   "cell_type": "markdown",
   "metadata": {},
   "source": [
    "$3(ln(2x=1))^{2} * (ln(2x+1))'$"
   ]
  },
  {
   "cell_type": "markdown",
   "metadata": {},
   "source": [
    "$(ln(2x+1))'=ln(2x+1)'*(2x+1)'=2\\frac{1}{2x+1}*2=\\frac{2}{2x+1}$"
   ]
  },
  {
   "cell_type": "markdown",
   "metadata": {},
   "source": [
    "#### Ответ: $\\frac{6*ln(2x+1)^{2}}{2x+1}$"
   ]
  },
  {
   "cell_type": "markdown",
   "metadata": {},
   "source": [
    "#### 3."
   ]
  },
  {
   "cell_type": "markdown",
   "metadata": {},
   "source": [
    "$\\sqrt{sin^{2}(ln(x^{3}))}$"
   ]
  },
  {
   "cell_type": "markdown",
   "metadata": {},
   "source": [
    "#### Ответ: $3*\\sqrt{sin(ln(x^{3}))^{2}}*\\frac{cos(ln(x^3))}{x*sin(ln(x^3))}$"
   ]
  },
  {
   "cell_type": "markdown",
   "metadata": {},
   "source": [
    "#### 4."
   ]
  },
  {
   "cell_type": "markdown",
   "metadata": {},
   "source": [
    "$\\frac{x^{4}}{ln(x)}$"
   ]
  },
  {
   "cell_type": "markdown",
   "metadata": {},
   "source": [
    "#### Ответ: $\\frac{x^{3}}{ln(x)}-\\frac{x^{3}}{ln(x)^{2}}$"
   ]
  },
  {
   "cell_type": "markdown",
   "metadata": {},
   "source": [
    "#### 5."
   ]
  },
  {
   "cell_type": "markdown",
   "metadata": {},
   "source": [
    "$cos(x^{2}+3x), x_{0} = \\sqrt{\\pi}$"
   ]
  },
  {
   "cell_type": "markdown",
   "metadata": {},
   "source": [
    "#### Ответ: $-(2x+3)*sin(x^{2}+3x), -(2*\\sqrt{\\pi}+3)*sin(\\pi+3\\sqrt{\\pi})$"
   ]
  },
  {
   "cell_type": "markdown",
   "metadata": {},
   "source": [
    "#### 1. исследовать ряд на сходимость, используя признак д’Аламбера"
   ]
  },
  {
   "cell_type": "markdown",
   "metadata": {},
   "source": [
    "$\\sum^{\\infty}_{n=1}\\frac{n^{n}}{(n!)^{2}}$"
   ]
  },
  {
   "cell_type": "markdown",
   "metadata": {},
   "source": [
    "$\\lim = \\frac{\\frac{(n+1)^{n+1}}{(n+1)!^{2}}}{\\frac{n^{n}}{(n!)^{2}}}=\\lim n^{-n}(n+1)^{n-1}=0$"
   ]
  },
  {
   "cell_type": "markdown",
   "metadata": {},
   "source": [
    "#### Ответ: 0 < 1 - ряд сходится"
   ]
  },
  {
   "cell_type": "markdown",
   "metadata": {},
   "source": [
    "#### 2."
   ]
  },
  {
   "cell_type": "markdown",
   "metadata": {},
   "source": [
    "$\\sum_{n=1}^{\\infty}\\frac{n}{2^{n}}$"
   ]
  },
  {
   "cell_type": "markdown",
   "metadata": {},
   "source": [
    "$\\lim=\\frac{\\frac{n+1}{2^{n+1}}}{\\frac{n}{2^{n}}}=\\lim\\frac{n+1}{2n}=\\frac{1}{2}$"
   ]
  },
  {
   "cell_type": "markdown",
   "metadata": {},
   "source": [
    "#### Ответ: ряд сходится"
   ]
  },
  {
   "cell_type": "markdown",
   "metadata": {},
   "source": [
    "#### 3. исследовать ряд на сходимость, используя признак Лейбница"
   ]
  },
  {
   "cell_type": "markdown",
   "metadata": {},
   "source": [
    "$\\sum^{\\infty}_{n=1}\\frac{(-1)^{n}}{n+ln(n)}$"
   ]
  },
  {
   "cell_type": "markdown",
   "metadata": {},
   "source": [
    "-1+0.37-0.24+0.18"
   ]
  },
  {
   "cell_type": "markdown",
   "metadata": {},
   "source": [
    "Ряд знакочередуется, убывает - сходится."
   ]
  },
  {
   "cell_type": "markdown",
   "metadata": {},
   "source": [
    "#### 4. исследовать ряд на сходимость, используя признак Раабе"
   ]
  },
  {
   "cell_type": "markdown",
   "metadata": {},
   "source": [
    "$\\sum^{\\infty}_{n=1}\\frac{3^{n}}{2^{n}}$"
   ]
  },
  {
   "cell_type": "markdown",
   "metadata": {},
   "source": [
    "$\\lim(n(\\frac{\\frac{3^{n}}{2^{n}}}{\\frac{3^{n+1}}{2^{n+1}}})-1)=-\\frac{1}{3} < 1$"
   ]
  },
  {
   "cell_type": "markdown",
   "metadata": {},
   "source": [
    "#### Ответ: ряд расходится"
   ]
  },
  {
   "cell_type": "markdown",
   "metadata": {},
   "source": [
    "#### 5. разложить функцию по Тейлору в единице"
   ]
  },
  {
   "cell_type": "markdown",
   "metadata": {},
   "source": [
    "$f(x)=ln(16x^{2})$"
   ]
  },
  {
   "cell_type": "markdown",
   "metadata": {},
   "source": [
    "$ln(16)+\\frac{2}{1!}(x-1)+\\frac{-2}{2!}(x-1)^{2}+\\frac{4}{3!}(x-1)^{3}...$"
   ]
  }
 ],
 "metadata": {
  "kernelspec": {
   "display_name": "Python 3",
   "language": "python",
   "name": "python3"
  },
  "language_info": {
   "codemirror_mode": {
    "name": "ipython",
    "version": 3
   },
   "file_extension": ".py",
   "mimetype": "text/x-python",
   "name": "python",
   "nbconvert_exporter": "python",
   "pygments_lexer": "ipython3",
   "version": "3.7.1"
  }
 },
 "nbformat": 4,
 "nbformat_minor": 2
}
