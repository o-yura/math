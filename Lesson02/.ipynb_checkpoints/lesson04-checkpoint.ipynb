{
 "cells": [
  {
   "cell_type": "markdown",
   "metadata": {},
   "source": [
    "#### Задания к уроку 4\n",
    "\n",
    "1. Напишите код, моделирующий выпадение поля в рулетке (с учетом поля зеро)."
   ]
  },
  {
   "cell_type": "code",
   "execution_count": 1,
   "metadata": {},
   "outputs": [],
   "source": [
    "import numpy as np\n",
    "import matplotlib.pyplot as plt\n",
    "import math \n",
    "import random"
   ]
  },
  {
   "cell_type": "code",
   "execution_count": 2,
   "metadata": {},
   "outputs": [],
   "source": [
    "numbers = { 0:'zero', 1:'red', 2:'black', 3:'red', 4:'black', 5:'red', 6:'black', 7:'red', 8:'black', 9:'red', 10:'black', 11:'black', 12:'red', 13:'black', 14:'red', 15:'black', 16:'red', 17:'black', 18:'red', 19:'red', 20:'black', 21:'red', 22:'black', 23:'red', 24:'black', 25:'red', 26:'black', 27:'red', 28:'black', 29:'black', 30:'red', 31:'black', 32:'red', 33:'black', 34:'red', 35:'black', 36:'red'}"
   ]
  },
  {
   "cell_type": "code",
   "execution_count": 3,
   "metadata": {},
   "outputs": [
    {
     "name": "stdout",
     "output_type": "stream",
     "text": [
      "3 red\n"
     ]
    }
   ],
   "source": [
    "x = random.randint(0,36)\n",
    "print(x, numbers[x])"
   ]
  },
  {
   "cell_type": "markdown",
   "metadata": {},
   "source": [
    "2. \n",
    "Напишите код, проверяющий любую из теорем сложения или умножения вероятности на примере подбрасывания монетки.\n",
    "\n",
    "Сгенерируйте десять выборок случайных чисел х0, …, х9.\n",
    "и постройте гистограмму распределения случайной суммы х0+х1+ …+ х9."
   ]
  },
  {
   "cell_type": "code",
   "execution_count": 4,
   "metadata": {},
   "outputs": [
    {
     "name": "stdout",
     "output_type": "stream",
     "text": [
      "49 51\n"
     ]
    }
   ],
   "source": [
    "k, n = 0, 0\n",
    "for i in range (0,100):\n",
    "    x = np.random.uniform(0,60)\n",
    "    if x<30:\n",
    "        k += 1\n",
    "    else:\n",
    "        n += 1\n",
    "print (k,n)        "
   ]
  },
  {
   "cell_type": "code",
   "execution_count": 15,
   "metadata": {},
   "outputs": [
    {
     "name": "stdout",
     "output_type": "stream",
     "text": [
      "[4.572040191077654, 4.02481838528414, 5.8922121139049715, 4.096020660567291, 5.532790035913616, 4.09469535618726, 4.668937038471079, 5.55534579631793, 6.092495887877169, 5.116290552193657]\n"
     ]
    },
    {
     "data": {
      "image/png": "[encoded data removed]",
      "text/plain": [
       "<Figure size 432x288 with 1 Axes>"
      ]
     },
     "metadata": {
      "needs_background": "light"
     },
     "output_type": "display_data"
    }
   ],
   "source": [
    "tank = []\n",
    "for i in range (0,10):\n",
    "    sum = 0\n",
    "    num_arr = np.random.rand(10)\n",
    "    for n in num_arr:\n",
    "        sum += n\n",
    "    tank.append(sum)\n",
    "n, bins, pathces = plt.hist(tank, 5)\n",
    "print(tank)\n",
    "plt.xlabel('N')\n",
    "plt.ylabel('Sum')\n",
    "plt.show()\n"
   ]
  },
  {
   "cell_type": "markdown",
   "metadata": {},
   "source": [
    "3.Дополните код Монте-Карло последовательности независимых испытаний расчетом соответствующих вероятностей (через биномиальное распределение) и сравните результаты. Повторите расчеты, взяв другие значения n и k.\n"
   ]
  },
  {
   "cell_type": "code",
   "execution_count": 20,
   "metadata": {},
   "outputs": [
    {
     "name": "stdout",
     "output_type": "stream",
     "text": [
      "15152 40000 0.3788\n"
     ]
    }
   ],
   "source": [
    "k, n = 0, 40000\n",
    "a = np.random.randint(0, 2, n)\n",
    "b = np.random.randint(0, 2, n)\n",
    "c = np.random.randint(0, 2, n)\n",
    "d = np.random.randint(0, 2, n)\n",
    "x = a + b + c + d\n",
    "for i in range(0, n):\n",
    "    if x[i] == 2:\n",
    "        k += 1\n",
    "# print(a, b, c, d, x)\n",
    "print(k, n, k/n)\n",
    "    "
   ]
  }
 ],
 "metadata": {
  "kernelspec": {
   "display_name": "Python 3",
   "language": "python",
   "name": "python3"
  },
  "language_info": {
   "codemirror_mode": {
    "name": "ipython",
    "version": 3
   },
   "file_extension": ".py",
   "mimetype": "text/x-python",
   "name": "python",
   "nbconvert_exporter": "python",
   "pygments_lexer": "ipython3",
   "version": "3.7.1"
  }
 },
 "nbformat": 4,
 "nbformat_minor": 2
}
