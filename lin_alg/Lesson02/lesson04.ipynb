{
 "cells": [
  {
   "cell_type": "markdown",
   "metadata": {},
   "source": [
    "#### Задания к уроку 4\n",
    "\n",
    "1. Напишите код, моделирующий выпадение поля в рулетке (с учетом поля зеро)."
   ]
  },
  {
   "cell_type": "code",
   "execution_count": 1,
   "metadata": {},
   "outputs": [],
   "source": [
    "import numpy as np\n",
    "import matplotlib.pyplot as plt\n",
    "import math \n",
    "import random"
   ]
  },
  {
   "cell_type": "code",
   "execution_count": 2,
   "metadata": {},
   "outputs": [],
   "source": [
    "numbers = { 0:'zero', 1:'red', 2:'black', 3:'red', 4:'black', 5:'red', 6:'black', 7:'red', 8:'black', 9:'red', 10:'black', 11:'black', 12:'red', 13:'black', 14:'red', 15:'black', 16:'red', 17:'black', 18:'red', 19:'red', 20:'black', 21:'red', 22:'black', 23:'red', 24:'black', 25:'red', 26:'black', 27:'red', 28:'black', 29:'black', 30:'red', 31:'black', 32:'red', 33:'black', 34:'red', 35:'black', 36:'red'}"
   ]
  },
  {
   "cell_type": "code",
   "execution_count": 3,
   "metadata": {},
   "outputs": [
    {
     "name": "stdout",
     "output_type": "stream",
     "text": [
      "10 black\n"
     ]
    }
   ],
   "source": [
    "x = random.randint(0,36)\n",
    "print(x, numbers[x])"
   ]
  },
  {
   "cell_type": "markdown",
   "metadata": {},
   "source": [
    "2. \n",
    "Напишите код, проверяющий любую из теорем сложения или умножения вероятности на примере подбрасывания монетки.\n",
    "\n",
    "Сгенерируйте десять выборок случайных чисел х0, …, х9.\n",
    "и постройте гистограмму распределения случайной суммы х0+х1+ …+ х9."
   ]
  },
  {
   "cell_type": "code",
   "execution_count": 4,
   "metadata": {},
   "outputs": [
    {
     "name": "stdout",
     "output_type": "stream",
     "text": [
      "48 52\n"
     ]
    }
   ],
   "source": [
    "k, n = 0, 0\n",
    "for i in range (0,100):\n",
    "    x = np.random.uniform(0,60)\n",
    "    if x<30:\n",
    "        k += 1\n",
    "    else:\n",
    "        n += 1\n",
    "print (k,n)        "
   ]
  },
  {
   "cell_type": "code",
   "execution_count": 5,
   "metadata": {},
   "outputs": [
    {
     "name": "stdout",
     "output_type": "stream",
     "text": [
      "[5.562327296130694, 4.580665838354404, 6.976197048910604, 5.639519773470076, 5.7031401711528, 4.699444236483896, 5.95714776710141, 6.48015618343063, 3.6197733017035487, 6.179010862417755]\n"
     ]
    },
    {
     "data": {
      "image/png": "[encoded data removed]",
      "text/plain": [
       "<Figure size 432x288 with 1 Axes>"
      ]
     },
     "metadata": {
      "needs_background": "light"
     },
     "output_type": "display_data"
    }
   ],
   "source": [
    "tank = []\n",
    "for i in range (0,10):\n",
    "    sum = 0\n",
    "    num_arr = np.random.rand(10)\n",
    "    for n in num_arr:\n",
    "        sum += n\n",
    "    tank.append(sum)\n",
    "n, bins, pathces = plt.hist(tank, 5)\n",
    "print(tank)\n",
    "plt.xlabel('N')\n",
    "plt.ylabel('Sum')\n",
    "plt.show()\n"
   ]
  },
  {
   "cell_type": "markdown",
   "metadata": {},
   "source": [
    "3.Дополните код Монте-Карло последовательности независимых испытаний расчетом соответствующих вероятностей (через биномиальное распределение) и сравните результаты. Повторите расчеты, взяв другие значения n и k.\n"
   ]
  },
  {
   "cell_type": "code",
   "execution_count": 34,
   "metadata": {},
   "outputs": [
    {
     "name": "stdout",
     "output_type": "stream",
     "text": [
      "40 100 0.4\n"
     ]
    }
   ],
   "source": [
    "k = 0\n",
    "n = 100\n",
    "r = 2\n",
    "a = np.random.randint(0, r, n)\n",
    "b = np.random.randint(0, r, n)\n",
    "c = np.random.randint(0, r, n)\n",
    "d = np.random.randint(0, r, n)\n",
    "x = a + b + c + d\n",
    "for i in range(0, n):\n",
    "    if x[i] == 2:\n",
    "        k += 1\n",
    "# print(a, b, c, d, x)\n",
    "print(k, n, k/n)"
   ]
  },
  {
   "cell_type": "code",
   "execution_count": 39,
   "metadata": {},
   "outputs": [
    {
     "name": "stdout",
     "output_type": "stream",
     "text": [
      "4950.0\n",
      "247500.0\n"
     ]
    }
   ],
   "source": [
    "c1 = math.factorial(n)\n",
    "c2 = math.factorial(r)\n",
    "c3 = math.factorial(n-r)\n",
    "A = n * ( 1 / r) * \n",
    "print(p)"
   ]
  },
  {
   "cell_type": "code",
   "execution_count": null,
   "metadata": {},
   "outputs": [],
   "source": []
  }
 ],
 "metadata": {
  "kernelspec": {
   "display_name": "Python 3",
   "language": "python",
   "name": "python3"
  },
  "language_info": {
   "codemirror_mode": {
    "name": "ipython",
    "version": 3
   },
   "file_extension": ".py",
   "mimetype": "text/x-python",
   "name": "python",
   "nbconvert_exporter": "python",
   "pygments_lexer": "ipython3",
   "version": "3.7.1"
  }
 },
 "nbformat": 4,
 "nbformat_minor": 2
}
