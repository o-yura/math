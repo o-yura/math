{
 "cells": [
  {
   "cell_type": "markdown",
   "metadata": {},
   "source": [
    "#### 5.1. Вектор – это частный случай матрицы 1хN и Nх1. Повторите материал для векторов, уделяя особое внимание умножению A∙B. Вычислите, по возможности не используя программирование: (5Е)–1, где Е – единичная матрица размера 5х5."
   ]
  },
  {
   "cell_type": "code",
   "execution_count": 15,
   "metadata": {},
   "outputs": [],
   "source": [
    "import numpy as np"
   ]
  },
  {
   "cell_type": "code",
   "execution_count": 18,
   "metadata": {},
   "outputs": [
    {
     "name": "stdout",
     "output_type": "stream",
     "text": [
      "a =  [1 2 3 4 5]\n",
      "b =  [[1]\n",
      " [2]\n",
      " [3]\n",
      " [4]\n",
      " [4]]\n"
     ]
    }
   ],
   "source": [
    "a = np.array([1,2,3,4,5])\n",
    "b = np.array([[1],[2],[3],[4],[4]])\n",
    "print('a = ', a)\n",
    "print('b = ', b)"
   ]
  },
  {
   "cell_type": "code",
   "execution_count": 21,
   "metadata": {},
   "outputs": [
    {
     "name": "stdout",
     "output_type": "stream",
     "text": [
      "[[2 3 4 5 6]\n",
      " [3 4 5 6 7]\n",
      " [4 5 6 7 8]\n",
      " [5 6 7 8 9]\n",
      " [5 6 7 8 9]] \n",
      "**\n",
      " [[ 0 -1 -2 -3 -4]\n",
      " [ 1  0 -1 -2 -3]\n",
      " [ 2  1  0 -1 -2]\n",
      " [ 3  2  1  0 -1]\n",
      " [ 3  2  1  0 -1]] \n",
      "**\n",
      " [[ 1  2  3  4  5]\n",
      " [ 2  4  6  8 10]\n",
      " [ 3  6  9 12 15]\n",
      " [ 4  8 12 16 20]\n",
      " [ 4  8 12 16 20]]\n"
     ]
    }
   ],
   "source": [
    "print(a+b,'\\n**\\n',b-a,'\\n**\\n',a*b)"
   ]
  },
  {
   "cell_type": "code",
   "execution_count": 53,
   "metadata": {},
   "outputs": [
    {
     "name": "stdout",
     "output_type": "stream",
     "text": [
      "[[1. 0. 0. 0. 0.]\n",
      " [0. 1. 0. 0. 0.]\n",
      " [0. 0. 1. 0. 0.]\n",
      " [0. 0. 0. 1. 0.]\n",
      " [0. 0. 0. 0. 1.]]\n"
     ]
    }
   ],
   "source": [
    "e = np.identity(5)\n",
    "print(e)"
   ]
  },
  {
   "cell_type": "markdown",
   "metadata": {},
   "source": [
    "    [1. 0. 0. 0. 0.]       [5. 0. 0. 0. 0.]       [4. -1. -1. -1. -1.]\n",
    "    [0. 1. 0. 0. 0.]       [0. 5. 0. 0. 0.]       [-1. 4. -1. -1. -1.]\n",
    "    [0. 0. 1. 0. 0.] * 5 = [0. 0. 5. 0. 0.] - 1 = [-1. -1. 4. -1. -1.]\n",
    "    [0. 0. 0. 1. 0.]       [0. 0. 0. 5. 0.]       [-1. -1. -1. 4. -1.]\n",
    "    [0. 0. 0. 0. 1.]       [0. 0. 0. 0. 5.]       [-1. -1. -1. -1. 4.]"
   ]
  },
  {
   "cell_type": "code",
   "execution_count": 54,
   "metadata": {},
   "outputs": [
    {
     "name": "stdout",
     "output_type": "stream",
     "text": [
      "[[ 4. -1. -1. -1. -1.]\n",
      " [-1.  4. -1. -1. -1.]\n",
      " [-1. -1.  4. -1. -1.]\n",
      " [-1. -1. -1.  4. -1.]\n",
      " [-1. -1. -1. -1.  4.]]\n"
     ]
    }
   ],
   "source": [
    "print(5*e-1)"
   ]
  },
  {
   "cell_type": "markdown",
   "metadata": {},
   "source": [
    "#### 5.2. Вычислите определитель:\n",
    "\n",
    "    [1. 2. 3]\n",
    "    [4. 0. 6]\n",
    "    [7. 8. 9]"
   ]
  },
  {
   "cell_type": "code",
   "execution_count": 51,
   "metadata": {},
   "outputs": [
    {
     "name": "stdout",
     "output_type": "stream",
     "text": [
      "[[1 2 3]\n",
      " [4 0 6]\n",
      " [7 8 9]]\n"
     ]
    }
   ],
   "source": [
    "a = np.array([[1,2,3],[4,0,6],[7,8,9]])\n",
    "print(a)"
   ]
  },
  {
   "cell_type": "markdown",
   "metadata": {},
   "source": [
    "        [1 2 3]\n",
    "    det [4 0 6] = 1(0*9 - 8*6) - 2(4*9 - 7*6) + 3(4*8 - 7*0) = -48 + 12 + 96 = 60\n",
    "        [7 8 9]"
   ]
  },
  {
   "cell_type": "code",
   "execution_count": 49,
   "metadata": {},
   "outputs": [
    {
     "name": "stdout",
     "output_type": "stream",
     "text": [
      "59.999999999999986\n"
     ]
    }
   ],
   "source": [
    "print(np.linalg.det(a))\n"
   ]
  },
  {
   "cell_type": "markdown",
   "metadata": {},
   "source": [
    "#### 5.3. 1. Вычислите матрицу, обратную данной:\n",
    "    [1 2 3]      [-48  -6  32]         [-48   6  32]         [-48   6  12]                     [  -0.8   0.1     0.2]\n",
    "    [4 0 6]  M = [ -6 -12  -6]  A(*) = [  6 -12   6]  A(T) = [  6 -12   6]  det = 60  A(-1) =  [   0.1  -0.2     0.1]\n",
    "    [7 8 9]      [ 12  -6  -8]         [ 12   6  -8]         [ 32   6  -8]                     [ 0.5(3)  0.1 -0.1(3)]"
   ]
  },
  {
   "cell_type": "code",
   "execution_count": 56,
   "metadata": {},
   "outputs": [
    {
     "name": "stdout",
     "output_type": "stream",
     "text": [
      "[[-0.8         0.1         0.2       ]\n",
      " [ 0.1        -0.2         0.1       ]\n",
      " [ 0.53333333  0.1        -0.13333333]]\n"
     ]
    }
   ],
   "source": [
    "a = np.array([[1,2,3],[4,0,6],[7,8,9]])\n",
    "print(np.linalg.inv(a))"
   ]
  },
  {
   "cell_type": "markdown",
   "metadata": {},
   "source": [
    "#### 2. Приведите пример матрицы 4х4, ранг которой равен 1.\n"
   ]
  },
  {
   "cell_type": "markdown",
   "metadata": {},
   "source": [
    "    [0 0 0 0]    [0 0 0 0]\n",
    "    [0 0 0 0]    [0 0 1 0]\n",
    "    [0 0 0 0]    [0 0 0 0]\n",
    "    [0 0 1 0]    [0 0 0 0]"
   ]
  },
  {
   "cell_type": "code",
   "execution_count": 143,
   "metadata": {},
   "outputs": [
    {
     "name": "stdout",
     "output_type": "stream",
     "text": [
      "1\n",
      "1\n"
     ]
    }
   ],
   "source": [
    "a = np.array([[0,0,0,0],[0,0,1,0],[0,0,0,0]])\n",
    "b = np.array([[0,0,0,0],[0,0,1,0],[0,0,0,0]])\n",
    "print(np.linalg.matrix_rank(a))\n",
    "print(np.linalg.matrix_rank(b))"
   ]
  },
  {
   "cell_type": "markdown",
   "metadata": {},
   "source": [
    "#### 5.4.Вычислите скалярное произведение двух векторов: (1, 5)  и  (2, 8)"
   ]
  },
  {
   "cell_type": "markdown",
   "metadata": {},
   "source": [
    "(1 * 2) + (5 * 8) = 42"
   ]
  },
  {
   "cell_type": "code",
   "execution_count": 150,
   "metadata": {},
   "outputs": [
    {
     "name": "stdout",
     "output_type": "stream",
     "text": [
      "[1 5] [2 8]\n",
      "42\n"
     ]
    }
   ],
   "source": [
    "a = np.array([1,5])\n",
    "b = np.array([2,8])\n",
    "print(a,b)\n",
    "print(np.inner(a,b))"
   ]
  },
  {
   "cell_type": "markdown",
   "metadata": {},
   "source": [
    "#### 5.5 Вычислите смешанное произведение трех векторов: (1, 5, 0), (2, 8, 7) и (7, 1.5, 3) \n"
   ]
  },
  {
   "cell_type": "code",
   "execution_count": 153,
   "metadata": {},
   "outputs": [
    {
     "name": "stdout",
     "output_type": "stream",
     "text": [
      "[1. 5. 0.] [2. 8. 7.] [7.  1.5 3. ]\n"
     ]
    }
   ],
   "source": [
    "a = np.array([1,5,0], float)\n",
    "b = np.array([2,8,7], float)\n",
    "c = np.array([7,1.5,3], float)\n",
    "print(a,b,c)"
   ]
  },
  {
   "cell_type": "code",
   "execution_count": 155,
   "metadata": {},
   "outputs": [
    {
     "name": "stdout",
     "output_type": "stream",
     "text": [
      "228.5\n",
      "228.5\n"
     ]
    }
   ],
   "source": [
    "res1 = np.cross(a,b)\n",
    "res2 = np.cross(b,c)\n",
    "print(np.inner(res1,c))\n",
    "print(np.inner(res2,a))"
   ]
  }
 ],
 "metadata": {
  "kernelspec": {
   "display_name": "Python 3",
   "language": "python",
   "name": "python3"
  },
  "language_info": {
   "codemirror_mode": {
    "name": "ipython",
    "version": 3
   },
   "file_extension": ".py",
   "mimetype": "text/x-python",
   "name": "python",
   "nbconvert_exporter": "python",
   "pygments_lexer": "ipython3",
   "version": "3.7.1"
  }
 },
 "nbformat": 4,
 "nbformat_minor": 2
}
