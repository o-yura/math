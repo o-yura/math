{
 "cells": [
  {
   "cell_type": "markdown",
   "metadata": {},
   "source": [
    "### Теория вероятностей и математическая статистика. Урок 2. Дискретные случайные величины. Закон распределения вероятностей. Биномиальный закон распределения. Распределение Пуассона"
   ]
  },
  {
   "cell_type": "markdown",
   "metadata": {},
   "source": [
    "#### 1. Вероятность того, что стрелок попадет в мишень, выстрелив один раз, равна 0.8. Стрелок выстрелил 100 раз. Найдите вероятность того, что стрелок попадет в цель ровно 85 раз."
   ]
  },
  {
   "cell_type": "markdown",
   "metadata": {},
   "source": [
    "$$P_{n}(k)=C_{n}^{k}*p^{k}*q^{n-k}$$"
   ]
  },
  {
   "cell_type": "markdown",
   "metadata": {},
   "source": [
    "n=100, k=85, p=0.8, q=1-0.8=0.2 "
   ]
  },
  {
   "cell_type": "markdown",
   "metadata": {},
   "source": [
    "$$C_{100}^{85}=\\frac{100!}{15!*85!}$$"
   ]
  },
  {
   "cell_type": "code",
   "execution_count": 1,
   "metadata": {},
   "outputs": [],
   "source": [
    "import numpy as np"
   ]
  },
  {
   "cell_type": "code",
   "execution_count": 2,
   "metadata": {},
   "outputs": [
    {
     "name": "stdout",
     "output_type": "stream",
     "text": [
      "2.5333847134998864e+17\n"
     ]
    }
   ],
   "source": [
    "c=np.math.factorial(100)/(np.math.factorial(15)*np.math.factorial(85))\n",
    "print(c)"
   ]
  },
  {
   "cell_type": "code",
   "execution_count": 3,
   "metadata": {},
   "outputs": [
    {
     "name": "stdout",
     "output_type": "stream",
     "text": [
      "0.048061793700746556\n"
     ]
    }
   ],
   "source": [
    "p=c*(0.8**85)*(0.2**15)\n",
    "print(p)"
   ]
  },
  {
   "cell_type": "markdown",
   "metadata": {},
   "source": [
    "#### 2.Вероятность того, что лампочка перегорит в течение первого дня эксплуатации, равна 0.0004. В жилом комплексе после ремонта в один день включили 5000 новых лампочек. Какова вероятность, что ни одна из них не перегорит в первый день? Какова вероятность, что перегорят ровно две?"
   ]
  },
  {
   "cell_type": "markdown",
   "metadata": {},
   "source": [
    "$$P_{n}(k)=C_{n}^{k}*p^{k}*q^{n-k}$$\n",
    "Ни одна не перегорит (обратное от перегорит):\n",
    "\n",
    "$$P=(1-0.0004)^{5000}$$ "
   ]
  },
  {
   "cell_type": "code",
   "execution_count": 10,
   "metadata": {},
   "outputs": [
    {
     "data": {
      "text/plain": [
       "0.13528114551440706"
      ]
     },
     "execution_count": 10,
     "metadata": {},
     "output_type": "execute_result"
    }
   ],
   "source": [
    "(1-0.0004)**5000"
   ]
  },
  {
   "cell_type": "markdown",
   "metadata": {},
   "source": [
    "Две перегорят:\n",
    "\n",
    "n=5000, k=2, p=0.0004, q=0.9996\n",
    "\n",
    "$$C_{5000}^{2}=\\frac{5000!}{4998!*2!}=\\frac{4999*5000}{2}=12497500$$\n"
   ]
  },
  {
   "cell_type": "markdown",
   "metadata": {},
   "source": [
    "$$P=12497500*0.0004^{2}*0.9996^{4998}=0.2707247150266753$$"
   ]
  },
  {
   "cell_type": "code",
   "execution_count": 5,
   "metadata": {},
   "outputs": [
    {
     "data": {
      "text/plain": [
       "0.2707247150266753"
      ]
     },
     "execution_count": 5,
     "metadata": {},
     "output_type": "execute_result"
    }
   ],
   "source": [
    "12497500*(0.0004**2)*(0.9996**4998)"
   ]
  },
  {
   "cell_type": "markdown",
   "metadata": {},
   "source": [
    "#### 3. Монету подбросили 144 раза. Какова вероятность, что орел выпадет ровно 70 раз?"
   ]
  },
  {
   "cell_type": "markdown",
   "metadata": {},
   "source": [
    "$$P_{n}(k)=C_{n}^{k}*p^{k}*q^{n-k}$$"
   ]
  },
  {
   "cell_type": "markdown",
   "metadata": {},
   "source": [
    "n=144, k=70, p=0.5, q=0.5"
   ]
  },
  {
   "cell_type": "markdown",
   "metadata": {},
   "source": [
    "$$C_{144}^{70}=\\frac{144!}{74!*70!}$$"
   ]
  },
  {
   "cell_type": "code",
   "execution_count": 6,
   "metadata": {},
   "outputs": [
    {
     "name": "stdout",
     "output_type": "stream",
     "text": [
      "1.4007495090837087e+42\n"
     ]
    }
   ],
   "source": [
    "c2=np.math.factorial(144)/(np.math.factorial(74)*np.math.factorial(70))\n",
    "print(c2)"
   ]
  },
  {
   "cell_type": "code",
   "execution_count": 7,
   "metadata": {},
   "outputs": [
    {
     "name": "stdout",
     "output_type": "stream",
     "text": [
      "0.06281178035144776\n"
     ]
    }
   ],
   "source": [
    "p2=c2*(0.5**70)*(0.5**74)\n",
    "print(p2)"
   ]
  },
  {
   "cell_type": "markdown",
   "metadata": {},
   "source": [
    "#### 4. В первом ящике находится 10 мячей, из которых 7 - белые. Во втором ящике - 11 мячей, из которых 9 белых. Из каждого ящика вытаскивают случайным образом по два мяча. Какова вероятность того, что все мячи белые? Какова вероятность того, что ровно два мяча белые? Какова вероятность того, что хотя бы один мяч белый? "
   ]
  },
  {
   "cell_type": "markdown",
   "metadata": {},
   "source": [
    "1-й ящик:\n",
    "\n",
    "    1-й белый = 7/10 \n",
    "    1-й черный = 3/10\n",
    "        \n",
    "2-й ящик:\n",
    "\n",
    "    1-й белый = 9/11\n",
    "    1-й черный = 2/11\n",
    "        "
   ]
  },
  {
   "cell_type": "markdown",
   "metadata": {},
   "source": [
    "Все белые: $$P=\\frac{7}{10}*\\frac{6}{9}*\\frac{9}{11}*\\frac{8}{10}=\\frac{3024}{9900}=0,305454545$$"
   ]
  },
  {
   "cell_type": "markdown",
   "metadata": {},
   "source": [
    "Два белых: \n",
    "$$P=ББЧЧ+ЧЧББ+БЧБЧ+БЧЧБ+ЧБЧБ+БЧЧБ$$\n",
    "\n",
    "\n",
    "\n"
   ]
  },
  {
   "cell_type": "markdown",
   "metadata": {},
   "source": [
    "$$P=\\frac{7}{10}*\\frac{6}{9}*\\frac{2}{11}*\\frac{1}{10}+\\frac{3}{10}*\\frac{2}{9}*\\frac{9}{11}*\\frac{8}{10}+\\frac{7}{10}*\\frac{3}{9}*\\frac{9}{11}*\\frac{2}{10}+$$"
   ]
  },
  {
   "cell_type": "markdown",
   "metadata": {},
   "source": [
    "$$+\\frac{7}{10}*\\frac{3}{9}*\\frac{2}{11}*\\frac{9}{10}+\\frac{3}{10}*\\frac{7}{9}*\\frac{2}{11}*\\frac{9}{10}+\\frac{7}{10}*\\frac{3}{9}*\\frac{2}{11}*\\frac{9}{10}=0.1704848484848485$$"
   ]
  },
  {
   "cell_type": "code",
   "execution_count": 13,
   "metadata": {},
   "outputs": [
    {
     "data": {
      "text/plain": [
       "0.1704848484848485"
      ]
     },
     "execution_count": 13,
     "metadata": {},
     "output_type": "execute_result"
    }
   ],
   "source": [
    "(7*6*2*1/9900)+(3*2*9*8/9900)+(7*3*9*2/10/9900)+(7*3*2*9/9900)+(3*7*2*9/9900)+(7*3*2*9/9900)"
   ]
  },
  {
   "cell_type": "markdown",
   "metadata": {},
   "source": [
    "Хотя бы один белый (обратное от все черные): $$P=1-\\frac{3}{10}*\\frac{2}{9}*\\frac{2}{11}*\\frac{1}{10}=0.9987878787878788$$"
   ]
  },
  {
   "cell_type": "code",
   "execution_count": 9,
   "metadata": {},
   "outputs": [
    {
     "data": {
      "text/plain": [
       "0.9987878787878788"
      ]
     },
     "execution_count": 9,
     "metadata": {},
     "output_type": "execute_result"
    }
   ],
   "source": [
    "1-((3/10)*(2/9)*(2/11)*(1/10))"
   ]
  }
 ],
 "metadata": {
  "kernelspec": {
   "display_name": "Python 3",
   "language": "python",
   "name": "python3"
  },
  "language_info": {
   "codemirror_mode": {
    "name": "ipython",
    "version": 3
   },
   "file_extension": ".py",
   "mimetype": "text/x-python",
   "name": "python",
   "nbconvert_exporter": "python",
   "pygments_lexer": "ipython3",
   "version": "3.7.1"
  }
 },
 "nbformat": 4,
 "nbformat_minor": 2
}
