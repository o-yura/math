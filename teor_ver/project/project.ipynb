{
 "cells": [
  {
   "cell_type": "code",
   "execution_count": 1,
   "metadata": {},
   "outputs": [],
   "source": [
    "import numpy as np\n",
    "import pandas as pd\n",
    "import matplotlib.pyplot as plt"
   ]
  },
  {
   "cell_type": "markdown",
   "metadata": {},
   "source": [
    "#### Пользуемся данными ресурса https://www.imdb.com/interfaces/"
   ]
  },
  {
   "cell_type": "code",
   "execution_count": 2,
   "metadata": {},
   "outputs": [
    {
     "name": "stdout",
     "output_type": "stream",
     "text": [
      "<class 'pandas.core.frame.DataFrame'>\n",
      "RangeIndex: 5906049 entries, 0 to 5906048\n",
      "Data columns (total 9 columns):\n",
      "tconst            object\n",
      "titleType         object\n",
      "primaryTitle      object\n",
      "originalTitle     object\n",
      "isAdult           object\n",
      "startYear         object\n",
      "endYear           object\n",
      "runtimeMinutes    object\n",
      "genres            object\n",
      "dtypes: object(9)\n",
      "memory usage: 405.5+ MB\n"
     ]
    }
   ],
   "source": [
    "df = pd.read_csv('title_basics.csv', sep='\\t', dtype='unicode')\n",
    "df.info()"
   ]
  },
  {
   "cell_type": "code",
   "execution_count": 3,
   "metadata": {},
   "outputs": [
    {
     "data": {
      "text/html": [
       "<div>\n",
       "<style scoped>\n",
       "    .dataframe tbody tr th:only-of-type {\n",
       "        vertical-align: middle;\n",
       "    }\n",
       "\n",
       "    .dataframe tbody tr th {\n",
       "        vertical-align: top;\n",
       "    }\n",
       "\n",
       "    .dataframe thead th {\n",
       "        text-align: right;\n",
       "    }\n",
       "</style>\n",
       "<table border=\"1\" class=\"dataframe\">\n",
       "  <thead>\n",
       "    <tr style=\"text-align: right;\">\n",
       "      <th></th>\n",
       "      <th>tconst</th>\n",
       "      <th>titleType</th>\n",
       "      <th>primaryTitle</th>\n",
       "      <th>originalTitle</th>\n",
       "      <th>isAdult</th>\n",
       "      <th>startYear</th>\n",
       "      <th>endYear</th>\n",
       "      <th>runtimeMinutes</th>\n",
       "      <th>genres</th>\n",
       "    </tr>\n",
       "  </thead>\n",
       "  <tbody>\n",
       "    <tr>\n",
       "      <th>0</th>\n",
       "      <td>tt0000001</td>\n",
       "      <td>short</td>\n",
       "      <td>Carmencita</td>\n",
       "      <td>Carmencita</td>\n",
       "      <td>0</td>\n",
       "      <td>1894</td>\n",
       "      <td>\\N</td>\n",
       "      <td>1</td>\n",
       "      <td>Documentary,Short</td>\n",
       "    </tr>\n",
       "    <tr>\n",
       "      <th>1</th>\n",
       "      <td>tt0000002</td>\n",
       "      <td>short</td>\n",
       "      <td>Le clown et ses chiens</td>\n",
       "      <td>Le clown et ses chiens</td>\n",
       "      <td>0</td>\n",
       "      <td>1892</td>\n",
       "      <td>\\N</td>\n",
       "      <td>5</td>\n",
       "      <td>Animation,Short</td>\n",
       "    </tr>\n",
       "    <tr>\n",
       "      <th>2</th>\n",
       "      <td>tt0000003</td>\n",
       "      <td>short</td>\n",
       "      <td>Pauvre Pierrot</td>\n",
       "      <td>Pauvre Pierrot</td>\n",
       "      <td>0</td>\n",
       "      <td>1892</td>\n",
       "      <td>\\N</td>\n",
       "      <td>4</td>\n",
       "      <td>Animation,Comedy,Romance</td>\n",
       "    </tr>\n",
       "    <tr>\n",
       "      <th>3</th>\n",
       "      <td>tt0000004</td>\n",
       "      <td>short</td>\n",
       "      <td>Un bon bock</td>\n",
       "      <td>Un bon bock</td>\n",
       "      <td>0</td>\n",
       "      <td>1892</td>\n",
       "      <td>\\N</td>\n",
       "      <td>\\N</td>\n",
       "      <td>Animation,Short</td>\n",
       "    </tr>\n",
       "    <tr>\n",
       "      <th>4</th>\n",
       "      <td>tt0000005</td>\n",
       "      <td>short</td>\n",
       "      <td>Blacksmith Scene</td>\n",
       "      <td>Blacksmith Scene</td>\n",
       "      <td>0</td>\n",
       "      <td>1893</td>\n",
       "      <td>\\N</td>\n",
       "      <td>1</td>\n",
       "      <td>Comedy,Short</td>\n",
       "    </tr>\n",
       "  </tbody>\n",
       "</table>\n",
       "</div>"
      ],
      "text/plain": [
       "      tconst titleType            primaryTitle           originalTitle  \\\n",
       "0  tt0000001     short              Carmencita              Carmencita   \n",
       "1  tt0000002     short  Le clown et ses chiens  Le clown et ses chiens   \n",
       "2  tt0000003     short          Pauvre Pierrot          Pauvre Pierrot   \n",
       "3  tt0000004     short             Un bon bock             Un bon bock   \n",
       "4  tt0000005     short        Blacksmith Scene        Blacksmith Scene   \n",
       "\n",
       "  isAdult startYear endYear runtimeMinutes                    genres  \n",
       "0       0      1894      \\N              1         Documentary,Short  \n",
       "1       0      1892      \\N              5           Animation,Short  \n",
       "2       0      1892      \\N              4  Animation,Comedy,Romance  \n",
       "3       0      1892      \\N             \\N           Animation,Short  \n",
       "4       0      1893      \\N              1              Comedy,Short  "
      ]
     },
     "execution_count": 3,
     "metadata": {},
     "output_type": "execute_result"
    }
   ],
   "source": [
    "df.head()"
   ]
  },
  {
   "cell_type": "markdown",
   "metadata": {},
   "source": [
    "Анализируем распределение наблюдений в разрезе времени"
   ]
  },
  {
   "cell_type": "code",
   "execution_count": 4,
   "metadata": {},
   "outputs": [],
   "source": [
    "df_types = df.filter(items=['titleType', 'startYear', 'tconst', 'isAdult', 'runtimeMinutes'])\n",
    "df_types.startYear = pd.to_numeric(df.startYear, errors='coerce').fillna(0).astype(int)"
   ]
  },
  {
   "cell_type": "code",
   "execution_count": 5,
   "metadata": {},
   "outputs": [
    {
     "name": "stdout",
     "output_type": "stream",
     "text": [
      "<class 'pandas.core.frame.DataFrame'>\n",
      "RangeIndex: 5906049 entries, 0 to 5906048\n",
      "Data columns (total 5 columns):\n",
      "titleType         object\n",
      "startYear         int64\n",
      "tconst            object\n",
      "isAdult           object\n",
      "runtimeMinutes    object\n",
      "dtypes: int64(1), object(4)\n",
      "memory usage: 225.3+ MB\n"
     ]
    }
   ],
   "source": [
    "df_types.info()"
   ]
  },
  {
   "cell_type": "code",
   "execution_count": 6,
   "metadata": {},
   "outputs": [
    {
     "data": {
      "text/html": [
       "<div>\n",
       "<style scoped>\n",
       "    .dataframe tbody tr th:only-of-type {\n",
       "        vertical-align: middle;\n",
       "    }\n",
       "\n",
       "    .dataframe tbody tr th {\n",
       "        vertical-align: top;\n",
       "    }\n",
       "\n",
       "    .dataframe thead th {\n",
       "        text-align: right;\n",
       "    }\n",
       "</style>\n",
       "<table border=\"1\" class=\"dataframe\">\n",
       "  <thead>\n",
       "    <tr style=\"text-align: right;\">\n",
       "      <th></th>\n",
       "      <th>titleType</th>\n",
       "      <th>startYear</th>\n",
       "      <th>tconst</th>\n",
       "      <th>isAdult</th>\n",
       "      <th>runtimeMinutes</th>\n",
       "    </tr>\n",
       "  </thead>\n",
       "  <tbody>\n",
       "    <tr>\n",
       "      <th>5906044</th>\n",
       "      <td>tvEpisode</td>\n",
       "      <td>2010</td>\n",
       "      <td>tt9916848</td>\n",
       "      <td>0</td>\n",
       "      <td>\\N</td>\n",
       "    </tr>\n",
       "    <tr>\n",
       "      <th>5906045</th>\n",
       "      <td>tvEpisode</td>\n",
       "      <td>2010</td>\n",
       "      <td>tt9916850</td>\n",
       "      <td>0</td>\n",
       "      <td>\\N</td>\n",
       "    </tr>\n",
       "    <tr>\n",
       "      <th>5906046</th>\n",
       "      <td>tvEpisode</td>\n",
       "      <td>2010</td>\n",
       "      <td>tt9916852</td>\n",
       "      <td>0</td>\n",
       "      <td>\\N</td>\n",
       "    </tr>\n",
       "    <tr>\n",
       "      <th>5906047</th>\n",
       "      <td>short</td>\n",
       "      <td>2015</td>\n",
       "      <td>tt9916856</td>\n",
       "      <td>0</td>\n",
       "      <td>27</td>\n",
       "    </tr>\n",
       "    <tr>\n",
       "      <th>5906048</th>\n",
       "      <td>tvEpisode</td>\n",
       "      <td>2014</td>\n",
       "      <td>tt9916880</td>\n",
       "      <td>0</td>\n",
       "      <td>\\N</td>\n",
       "    </tr>\n",
       "  </tbody>\n",
       "</table>\n",
       "</div>"
      ],
      "text/plain": [
       "         titleType  startYear     tconst isAdult runtimeMinutes\n",
       "5906044  tvEpisode       2010  tt9916848       0             \\N\n",
       "5906045  tvEpisode       2010  tt9916850       0             \\N\n",
       "5906046  tvEpisode       2010  tt9916852       0             \\N\n",
       "5906047      short       2015  tt9916856       0             27\n",
       "5906048  tvEpisode       2014  tt9916880       0             \\N"
      ]
     },
     "execution_count": 6,
     "metadata": {},
     "output_type": "execute_result"
    }
   ],
   "source": [
    "df_types.tail()"
   ]
  },
  {
   "cell_type": "markdown",
   "metadata": {},
   "source": [
    "Отсекаем неправдивые данные."
   ]
  },
  {
   "cell_type": "code",
   "execution_count": 7,
   "metadata": {},
   "outputs": [],
   "source": [
    "df_types = df_types[df_types['startYear'] < 2019]\n",
    "df_types = df_types[df_types['startYear'] != 0]"
   ]
  },
  {
   "cell_type": "code",
   "execution_count": 8,
   "metadata": {},
   "outputs": [],
   "source": [
    "df_g1 = df_types.groupby(['startYear','titleType']).size().reset_index(name='counts')"
   ]
  },
  {
   "cell_type": "code",
   "execution_count": 9,
   "metadata": {},
   "outputs": [
    {
     "data": {
      "text/html": [
       "<div>\n",
       "<style scoped>\n",
       "    .dataframe tbody tr th:only-of-type {\n",
       "        vertical-align: middle;\n",
       "    }\n",
       "\n",
       "    .dataframe tbody tr th {\n",
       "        vertical-align: top;\n",
       "    }\n",
       "\n",
       "    .dataframe thead th {\n",
       "        text-align: right;\n",
       "    }\n",
       "</style>\n",
       "<table border=\"1\" class=\"dataframe\">\n",
       "  <thead>\n",
       "    <tr style=\"text-align: right;\">\n",
       "      <th></th>\n",
       "      <th>startYear</th>\n",
       "      <th>titleType</th>\n",
       "      <th>counts</th>\n",
       "    </tr>\n",
       "  </thead>\n",
       "  <tbody>\n",
       "    <tr>\n",
       "      <th>0</th>\n",
       "      <td>1874</td>\n",
       "      <td>short</td>\n",
       "      <td>1</td>\n",
       "    </tr>\n",
       "    <tr>\n",
       "      <th>1</th>\n",
       "      <td>1878</td>\n",
       "      <td>short</td>\n",
       "      <td>1</td>\n",
       "    </tr>\n",
       "    <tr>\n",
       "      <th>2</th>\n",
       "      <td>1881</td>\n",
       "      <td>short</td>\n",
       "      <td>1</td>\n",
       "    </tr>\n",
       "    <tr>\n",
       "      <th>3</th>\n",
       "      <td>1883</td>\n",
       "      <td>short</td>\n",
       "      <td>1</td>\n",
       "    </tr>\n",
       "    <tr>\n",
       "      <th>4</th>\n",
       "      <td>1885</td>\n",
       "      <td>short</td>\n",
       "      <td>1</td>\n",
       "    </tr>\n",
       "  </tbody>\n",
       "</table>\n",
       "</div>"
      ],
      "text/plain": [
       "   startYear titleType  counts\n",
       "0       1874     short       1\n",
       "1       1878     short       1\n",
       "2       1881     short       1\n",
       "3       1883     short       1\n",
       "4       1885     short       1"
      ]
     },
     "execution_count": 9,
     "metadata": {},
     "output_type": "execute_result"
    }
   ],
   "source": [
    "df_g1.head()"
   ]
  },
  {
   "cell_type": "code",
   "execution_count": 10,
   "metadata": {},
   "outputs": [
    {
     "data": {
      "text/plain": [
       "titleType\n",
       "movie           AxesSubplot(0.125,0.125;0.775x0.755)\n",
       "short           AxesSubplot(0.125,0.125;0.775x0.755)\n",
       "tvEpisode       AxesSubplot(0.125,0.125;0.775x0.755)\n",
       "tvMiniSeries    AxesSubplot(0.125,0.125;0.775x0.755)\n",
       "tvMovie         AxesSubplot(0.125,0.125;0.775x0.755)\n",
       "tvSeries        AxesSubplot(0.125,0.125;0.775x0.755)\n",
       "tvShort         AxesSubplot(0.125,0.125;0.775x0.755)\n",
       "tvSpecial       AxesSubplot(0.125,0.125;0.775x0.755)\n",
       "video           AxesSubplot(0.125,0.125;0.775x0.755)\n",
       "videoGame       AxesSubplot(0.125,0.125;0.775x0.755)\n",
       "dtype: object"
      ]
     },
     "execution_count": 10,
     "metadata": {},
     "output_type": "execute_result"
    },
    {
     "data": {
      "image/png": "[encoded data removed]",
      "text/plain": [
       "<Figure size 1008x576 with 1 Axes>"
      ]
     },
     "metadata": {
      "needs_background": "light"
     },
     "output_type": "display_data"
    }
   ],
   "source": [
    "fig, ax = plt.subplots()\n",
    "df_g1.groupby('titleType').plot(x='startYear', ax=ax, legend=False, figsize=(14, 8))"
   ]
  },
  {
   "cell_type": "markdown",
   "metadata": {},
   "source": [
    "Наблюдаем, что примерно с 1950 года намечается тенденция к образованию актуальной картины.\n",
    "Применяем соответствующий фильтр, для отсечения бесполезных данных."
   ]
  },
  {
   "cell_type": "code",
   "execution_count": 11,
   "metadata": {},
   "outputs": [
    {
     "name": "stdout",
     "output_type": "stream",
     "text": [
      "<class 'pandas.core.frame.DataFrame'>\n",
      "Int64Index: 5256402 entries, 15495 to 5906048\n",
      "Data columns (total 5 columns):\n",
      "titleType         object\n",
      "startYear         int64\n",
      "tconst            object\n",
      "isAdult           object\n",
      "runtimeMinutes    object\n",
      "dtypes: int64(1), object(4)\n",
      "memory usage: 240.6+ MB\n"
     ]
    }
   ],
   "source": [
    "df_types = df_types[df_types['startYear'] > 1950]\n",
    "df_types.info()"
   ]
  },
  {
   "cell_type": "code",
   "execution_count": 12,
   "metadata": {},
   "outputs": [],
   "source": [
    "df_g1 = df_types.groupby(['startYear','titleType']).size().reset_index(name='counts')"
   ]
  },
  {
   "cell_type": "code",
   "execution_count": 13,
   "metadata": {},
   "outputs": [
    {
     "data": {
      "text/plain": [
       "titleType\n",
       "movie           AxesSubplot(0.125,0.125;0.775x0.755)\n",
       "short           AxesSubplot(0.125,0.125;0.775x0.755)\n",
       "tvEpisode       AxesSubplot(0.125,0.125;0.775x0.755)\n",
       "tvMiniSeries    AxesSubplot(0.125,0.125;0.775x0.755)\n",
       "tvMovie         AxesSubplot(0.125,0.125;0.775x0.755)\n",
       "tvSeries        AxesSubplot(0.125,0.125;0.775x0.755)\n",
       "tvShort         AxesSubplot(0.125,0.125;0.775x0.755)\n",
       "tvSpecial       AxesSubplot(0.125,0.125;0.775x0.755)\n",
       "video           AxesSubplot(0.125,0.125;0.775x0.755)\n",
       "videoGame       AxesSubplot(0.125,0.125;0.775x0.755)\n",
       "dtype: object"
      ]
     },
     "execution_count": 13,
     "metadata": {},
     "output_type": "execute_result"
    },
    {
     "data": {
      "image/png": "[encoded data removed]",
      "text/plain": [
       "<Figure size 1008x576 with 1 Axes>"
      ]
     },
     "metadata": {
      "needs_background": "light"
     },
     "output_type": "display_data"
    }
   ],
   "source": [
    "fig, ax = plt.subplots()\n",
    "df_g1.groupby('titleType').plot(x='startYear', ax=ax, legend=False, figsize=(14, 8))"
   ]
  },
  {
   "cell_type": "code",
   "execution_count": 14,
   "metadata": {},
   "outputs": [
    {
     "data": {
      "text/html": [
       "<div>\n",
       "<style scoped>\n",
       "    .dataframe tbody tr th:only-of-type {\n",
       "        vertical-align: middle;\n",
       "    }\n",
       "\n",
       "    .dataframe tbody tr th {\n",
       "        vertical-align: top;\n",
       "    }\n",
       "\n",
       "    .dataframe thead tr th {\n",
       "        text-align: left;\n",
       "    }\n",
       "\n",
       "    .dataframe thead tr:last-of-type th {\n",
       "        text-align: right;\n",
       "    }\n",
       "</style>\n",
       "<table border=\"1\" class=\"dataframe\">\n",
       "  <thead>\n",
       "    <tr>\n",
       "      <th></th>\n",
       "      <th colspan=\"8\" halign=\"left\">counts</th>\n",
       "      <th colspan=\"8\" halign=\"left\">startYear</th>\n",
       "    </tr>\n",
       "    <tr>\n",
       "      <th></th>\n",
       "      <th>count</th>\n",
       "      <th>mean</th>\n",
       "      <th>std</th>\n",
       "      <th>min</th>\n",
       "      <th>25%</th>\n",
       "      <th>50%</th>\n",
       "      <th>75%</th>\n",
       "      <th>max</th>\n",
       "      <th>count</th>\n",
       "      <th>mean</th>\n",
       "      <th>std</th>\n",
       "      <th>min</th>\n",
       "      <th>25%</th>\n",
       "      <th>50%</th>\n",
       "      <th>75%</th>\n",
       "      <th>max</th>\n",
       "    </tr>\n",
       "    <tr>\n",
       "      <th>titleType</th>\n",
       "      <th></th>\n",
       "      <th></th>\n",
       "      <th></th>\n",
       "      <th></th>\n",
       "      <th></th>\n",
       "      <th></th>\n",
       "      <th></th>\n",
       "      <th></th>\n",
       "      <th></th>\n",
       "      <th></th>\n",
       "      <th></th>\n",
       "      <th></th>\n",
       "      <th></th>\n",
       "      <th></th>\n",
       "      <th></th>\n",
       "      <th></th>\n",
       "    </tr>\n",
       "  </thead>\n",
       "  <tbody>\n",
       "    <tr>\n",
       "      <th>movie</th>\n",
       "      <td>68.0</td>\n",
       "      <td>5599.941176</td>\n",
       "      <td>4169.448415</td>\n",
       "      <td>1821.0</td>\n",
       "      <td>3529.00</td>\n",
       "      <td>4061.0</td>\n",
       "      <td>5270.75</td>\n",
       "      <td>17456.0</td>\n",
       "      <td>68.0</td>\n",
       "      <td>1984.500000</td>\n",
       "      <td>19.773720</td>\n",
       "      <td>1951.0</td>\n",
       "      <td>1967.75</td>\n",
       "      <td>1984.5</td>\n",
       "      <td>2001.25</td>\n",
       "      <td>2018.0</td>\n",
       "    </tr>\n",
       "    <tr>\n",
       "      <th>short</th>\n",
       "      <td>68.0</td>\n",
       "      <td>7825.794118</td>\n",
       "      <td>13154.951340</td>\n",
       "      <td>908.0</td>\n",
       "      <td>1216.00</td>\n",
       "      <td>1424.5</td>\n",
       "      <td>5296.75</td>\n",
       "      <td>45488.0</td>\n",
       "      <td>68.0</td>\n",
       "      <td>1984.500000</td>\n",
       "      <td>19.773720</td>\n",
       "      <td>1951.0</td>\n",
       "      <td>1967.75</td>\n",
       "      <td>1984.5</td>\n",
       "      <td>2001.25</td>\n",
       "      <td>2018.0</td>\n",
       "    </tr>\n",
       "    <tr>\n",
       "      <th>tvEpisode</th>\n",
       "      <td>68.0</td>\n",
       "      <td>55405.161765</td>\n",
       "      <td>65893.627583</td>\n",
       "      <td>4132.0</td>\n",
       "      <td>16676.00</td>\n",
       "      <td>21695.5</td>\n",
       "      <td>66771.75</td>\n",
       "      <td>234317.0</td>\n",
       "      <td>68.0</td>\n",
       "      <td>1984.500000</td>\n",
       "      <td>19.773720</td>\n",
       "      <td>1951.0</td>\n",
       "      <td>1967.75</td>\n",
       "      <td>1984.5</td>\n",
       "      <td>2001.25</td>\n",
       "      <td>2018.0</td>\n",
       "    </tr>\n",
       "    <tr>\n",
       "      <th>tvMiniSeries</th>\n",
       "      <td>68.0</td>\n",
       "      <td>352.838235</td>\n",
       "      <td>554.928760</td>\n",
       "      <td>3.0</td>\n",
       "      <td>75.50</td>\n",
       "      <td>173.5</td>\n",
       "      <td>307.00</td>\n",
       "      <td>2421.0</td>\n",
       "      <td>68.0</td>\n",
       "      <td>1984.500000</td>\n",
       "      <td>19.773720</td>\n",
       "      <td>1951.0</td>\n",
       "      <td>1967.75</td>\n",
       "      <td>1984.5</td>\n",
       "      <td>2001.25</td>\n",
       "      <td>2018.0</td>\n",
       "    </tr>\n",
       "    <tr>\n",
       "      <th>tvMovie</th>\n",
       "      <td>68.0</td>\n",
       "      <td>1747.735294</td>\n",
       "      <td>1046.040275</td>\n",
       "      <td>91.0</td>\n",
       "      <td>1143.75</td>\n",
       "      <td>1358.5</td>\n",
       "      <td>2580.25</td>\n",
       "      <td>3974.0</td>\n",
       "      <td>68.0</td>\n",
       "      <td>1984.500000</td>\n",
       "      <td>19.773720</td>\n",
       "      <td>1951.0</td>\n",
       "      <td>1967.75</td>\n",
       "      <td>1984.5</td>\n",
       "      <td>2001.25</td>\n",
       "      <td>2018.0</td>\n",
       "    </tr>\n",
       "    <tr>\n",
       "      <th>tvSeries</th>\n",
       "      <td>68.0</td>\n",
       "      <td>2253.470588</td>\n",
       "      <td>2564.022810</td>\n",
       "      <td>252.0</td>\n",
       "      <td>617.75</td>\n",
       "      <td>961.5</td>\n",
       "      <td>2877.25</td>\n",
       "      <td>8932.0</td>\n",
       "      <td>68.0</td>\n",
       "      <td>1984.500000</td>\n",
       "      <td>19.773720</td>\n",
       "      <td>1951.0</td>\n",
       "      <td>1967.75</td>\n",
       "      <td>1984.5</td>\n",
       "      <td>2001.25</td>\n",
       "      <td>2018.0</td>\n",
       "    </tr>\n",
       "    <tr>\n",
       "      <th>tvShort</th>\n",
       "      <td>68.0</td>\n",
       "      <td>142.441176</td>\n",
       "      <td>97.159721</td>\n",
       "      <td>13.0</td>\n",
       "      <td>75.25</td>\n",
       "      <td>111.0</td>\n",
       "      <td>193.50</td>\n",
       "      <td>480.0</td>\n",
       "      <td>68.0</td>\n",
       "      <td>1984.500000</td>\n",
       "      <td>19.773720</td>\n",
       "      <td>1951.0</td>\n",
       "      <td>1967.75</td>\n",
       "      <td>1984.5</td>\n",
       "      <td>2001.25</td>\n",
       "      <td>2018.0</td>\n",
       "    </tr>\n",
       "    <tr>\n",
       "      <th>tvSpecial</th>\n",
       "      <td>68.0</td>\n",
       "      <td>290.485294</td>\n",
       "      <td>298.068683</td>\n",
       "      <td>7.0</td>\n",
       "      <td>66.75</td>\n",
       "      <td>144.5</td>\n",
       "      <td>476.25</td>\n",
       "      <td>1094.0</td>\n",
       "      <td>68.0</td>\n",
       "      <td>1984.500000</td>\n",
       "      <td>19.773720</td>\n",
       "      <td>1951.0</td>\n",
       "      <td>1967.75</td>\n",
       "      <td>1984.5</td>\n",
       "      <td>2001.25</td>\n",
       "      <td>2018.0</td>\n",
       "    </tr>\n",
       "    <tr>\n",
       "      <th>video</th>\n",
       "      <td>64.0</td>\n",
       "      <td>3556.296875</td>\n",
       "      <td>4336.915068</td>\n",
       "      <td>1.0</td>\n",
       "      <td>31.00</td>\n",
       "      <td>1699.5</td>\n",
       "      <td>6466.75</td>\n",
       "      <td>11684.0</td>\n",
       "      <td>64.0</td>\n",
       "      <td>1986.390625</td>\n",
       "      <td>18.806126</td>\n",
       "      <td>1952.0</td>\n",
       "      <td>1970.75</td>\n",
       "      <td>1986.5</td>\n",
       "      <td>2002.25</td>\n",
       "      <td>2018.0</td>\n",
       "    </tr>\n",
       "    <tr>\n",
       "      <th>videoGame</th>\n",
       "      <td>53.0</td>\n",
       "      <td>429.886792</td>\n",
       "      <td>286.462084</td>\n",
       "      <td>1.0</td>\n",
       "      <td>172.00</td>\n",
       "      <td>479.0</td>\n",
       "      <td>602.00</td>\n",
       "      <td>1030.0</td>\n",
       "      <td>53.0</td>\n",
       "      <td>1991.452830</td>\n",
       "      <td>16.504738</td>\n",
       "      <td>1952.0</td>\n",
       "      <td>1979.00</td>\n",
       "      <td>1992.0</td>\n",
       "      <td>2005.00</td>\n",
       "      <td>2018.0</td>\n",
       "    </tr>\n",
       "  </tbody>\n",
       "</table>\n",
       "</div>"
      ],
      "text/plain": [
       "             counts                                                         \\\n",
       "              count          mean           std     min       25%      50%   \n",
       "titleType                                                                    \n",
       "movie          68.0   5599.941176   4169.448415  1821.0   3529.00   4061.0   \n",
       "short          68.0   7825.794118  13154.951340   908.0   1216.00   1424.5   \n",
       "tvEpisode      68.0  55405.161765  65893.627583  4132.0  16676.00  21695.5   \n",
       "tvMiniSeries   68.0    352.838235    554.928760     3.0     75.50    173.5   \n",
       "tvMovie        68.0   1747.735294   1046.040275    91.0   1143.75   1358.5   \n",
       "tvSeries       68.0   2253.470588   2564.022810   252.0    617.75    961.5   \n",
       "tvShort        68.0    142.441176     97.159721    13.0     75.25    111.0   \n",
       "tvSpecial      68.0    290.485294    298.068683     7.0     66.75    144.5   \n",
       "video          64.0   3556.296875   4336.915068     1.0     31.00   1699.5   \n",
       "videoGame      53.0    429.886792    286.462084     1.0    172.00    479.0   \n",
       "\n",
       "                                 startYear                                  \\\n",
       "                   75%       max     count         mean        std     min   \n",
       "titleType                                                                    \n",
       "movie          5270.75   17456.0      68.0  1984.500000  19.773720  1951.0   \n",
       "short          5296.75   45488.0      68.0  1984.500000  19.773720  1951.0   \n",
       "tvEpisode     66771.75  234317.0      68.0  1984.500000  19.773720  1951.0   \n",
       "tvMiniSeries    307.00    2421.0      68.0  1984.500000  19.773720  1951.0   \n",
       "tvMovie        2580.25    3974.0      68.0  1984.500000  19.773720  1951.0   \n",
       "tvSeries       2877.25    8932.0      68.0  1984.500000  19.773720  1951.0   \n",
       "tvShort         193.50     480.0      68.0  1984.500000  19.773720  1951.0   \n",
       "tvSpecial       476.25    1094.0      68.0  1984.500000  19.773720  1951.0   \n",
       "video          6466.75   11684.0      64.0  1986.390625  18.806126  1952.0   \n",
       "videoGame       602.00    1030.0      53.0  1991.452830  16.504738  1952.0   \n",
       "\n",
       "                                                \n",
       "                  25%     50%      75%     max  \n",
       "titleType                                       \n",
       "movie         1967.75  1984.5  2001.25  2018.0  \n",
       "short         1967.75  1984.5  2001.25  2018.0  \n",
       "tvEpisode     1967.75  1984.5  2001.25  2018.0  \n",
       "tvMiniSeries  1967.75  1984.5  2001.25  2018.0  \n",
       "tvMovie       1967.75  1984.5  2001.25  2018.0  \n",
       "tvSeries      1967.75  1984.5  2001.25  2018.0  \n",
       "tvShort       1967.75  1984.5  2001.25  2018.0  \n",
       "tvSpecial     1967.75  1984.5  2001.25  2018.0  \n",
       "video         1970.75  1986.5  2002.25  2018.0  \n",
       "videoGame     1979.00  1992.0  2005.00  2018.0  "
      ]
     },
     "execution_count": 14,
     "metadata": {},
     "output_type": "execute_result"
    }
   ],
   "source": [
    "df_g1.groupby('titleType').describe()"
   ]
  },
  {
   "cell_type": "markdown",
   "metadata": {},
   "source": [
    "Самый насыщенные категории в 4-х позициях: movie, short, tvEpisode, video.\n",
    "tvEpisode доминируют в общей массе контента, и имеют ярко выраженный тренд к росту."
   ]
  },
  {
   "cell_type": "markdown",
   "metadata": {},
   "source": [
    "Пробуем оценить рейтинги."
   ]
  },
  {
   "cell_type": "code",
   "execution_count": 15,
   "metadata": {},
   "outputs": [
    {
     "name": "stdout",
     "output_type": "stream",
     "text": [
      "<class 'pandas.core.frame.DataFrame'>\n",
      "RangeIndex: 939667 entries, 0 to 939666\n",
      "Data columns (total 3 columns):\n",
      "tconst           939667 non-null object\n",
      "averageRating    939667 non-null object\n",
      "numVotes         939667 non-null object\n",
      "dtypes: object(3)\n",
      "memory usage: 21.5+ MB\n"
     ]
    }
   ],
   "source": [
    "df2 = pd.read_csv('title_ratings.сsv', sep='\\t', dtype='unicode')\n",
    "df2.info()"
   ]
  },
  {
   "cell_type": "code",
   "execution_count": 16,
   "metadata": {},
   "outputs": [],
   "source": [
    "df2.numVotes = pd.to_numeric(df2.numVotes, errors='coerce').fillna(0).astype(int)\n",
    "df2.averageRating = pd.to_numeric(df2.averageRating, errors='coerce').fillna(0).astype(float)"
   ]
  },
  {
   "cell_type": "code",
   "execution_count": 17,
   "metadata": {},
   "outputs": [
    {
     "data": {
      "text/plain": [
       "<matplotlib.axes._subplots.AxesSubplot at 0x7fac49dce550>"
      ]
     },
     "execution_count": 17,
     "metadata": {},
     "output_type": "execute_result"
    },
    {
     "data": {
      "image/png": "[encoded data removed]",
      "text/plain": [
       "<Figure size 1008x576 with 1 Axes>"
      ]
     },
     "metadata": {
      "needs_background": "light"
     },
     "output_type": "display_data"
    }
   ],
   "source": [
    "df2.plot(x='numVotes', y='averageRating', kind='scatter', figsize=(14, 8))"
   ]
  },
  {
   "cell_type": "markdown",
   "metadata": {},
   "source": [
    "Наблюдаем, что больше голосуют за успешный контент. Т.е. количеством голосов может описывать популярность контента.\n",
    "Объединяем датафреймы и пытаемся изучить данные."
   ]
  },
  {
   "cell_type": "code",
   "execution_count": 18,
   "metadata": {},
   "outputs": [
    {
     "data": {
      "text/html": [
       "<div>\n",
       "<style scoped>\n",
       "    .dataframe tbody tr th:only-of-type {\n",
       "        vertical-align: middle;\n",
       "    }\n",
       "\n",
       "    .dataframe tbody tr th {\n",
       "        vertical-align: top;\n",
       "    }\n",
       "\n",
       "    .dataframe thead th {\n",
       "        text-align: right;\n",
       "    }\n",
       "</style>\n",
       "<table border=\"1\" class=\"dataframe\">\n",
       "  <thead>\n",
       "    <tr style=\"text-align: right;\">\n",
       "      <th></th>\n",
       "      <th>tconst</th>\n",
       "      <th>titleType</th>\n",
       "      <th>primaryTitle</th>\n",
       "      <th>originalTitle</th>\n",
       "      <th>isAdult</th>\n",
       "      <th>startYear</th>\n",
       "      <th>endYear</th>\n",
       "      <th>runtimeMinutes</th>\n",
       "      <th>genres</th>\n",
       "    </tr>\n",
       "  </thead>\n",
       "  <tbody>\n",
       "    <tr>\n",
       "      <th>0</th>\n",
       "      <td>tt0000001</td>\n",
       "      <td>short</td>\n",
       "      <td>Carmencita</td>\n",
       "      <td>Carmencita</td>\n",
       "      <td>0</td>\n",
       "      <td>1894</td>\n",
       "      <td>\\N</td>\n",
       "      <td>1</td>\n",
       "      <td>Documentary,Short</td>\n",
       "    </tr>\n",
       "    <tr>\n",
       "      <th>1</th>\n",
       "      <td>tt0000002</td>\n",
       "      <td>short</td>\n",
       "      <td>Le clown et ses chiens</td>\n",
       "      <td>Le clown et ses chiens</td>\n",
       "      <td>0</td>\n",
       "      <td>1892</td>\n",
       "      <td>\\N</td>\n",
       "      <td>5</td>\n",
       "      <td>Animation,Short</td>\n",
       "    </tr>\n",
       "    <tr>\n",
       "      <th>2</th>\n",
       "      <td>tt0000003</td>\n",
       "      <td>short</td>\n",
       "      <td>Pauvre Pierrot</td>\n",
       "      <td>Pauvre Pierrot</td>\n",
       "      <td>0</td>\n",
       "      <td>1892</td>\n",
       "      <td>\\N</td>\n",
       "      <td>4</td>\n",
       "      <td>Animation,Comedy,Romance</td>\n",
       "    </tr>\n",
       "    <tr>\n",
       "      <th>3</th>\n",
       "      <td>tt0000004</td>\n",
       "      <td>short</td>\n",
       "      <td>Un bon bock</td>\n",
       "      <td>Un bon bock</td>\n",
       "      <td>0</td>\n",
       "      <td>1892</td>\n",
       "      <td>\\N</td>\n",
       "      <td>\\N</td>\n",
       "      <td>Animation,Short</td>\n",
       "    </tr>\n",
       "    <tr>\n",
       "      <th>4</th>\n",
       "      <td>tt0000005</td>\n",
       "      <td>short</td>\n",
       "      <td>Blacksmith Scene</td>\n",
       "      <td>Blacksmith Scene</td>\n",
       "      <td>0</td>\n",
       "      <td>1893</td>\n",
       "      <td>\\N</td>\n",
       "      <td>1</td>\n",
       "      <td>Comedy,Short</td>\n",
       "    </tr>\n",
       "  </tbody>\n",
       "</table>\n",
       "</div>"
      ],
      "text/plain": [
       "      tconst titleType            primaryTitle           originalTitle  \\\n",
       "0  tt0000001     short              Carmencita              Carmencita   \n",
       "1  tt0000002     short  Le clown et ses chiens  Le clown et ses chiens   \n",
       "2  tt0000003     short          Pauvre Pierrot          Pauvre Pierrot   \n",
       "3  tt0000004     short             Un bon bock             Un bon bock   \n",
       "4  tt0000005     short        Blacksmith Scene        Blacksmith Scene   \n",
       "\n",
       "  isAdult startYear endYear runtimeMinutes                    genres  \n",
       "0       0      1894      \\N              1         Documentary,Short  \n",
       "1       0      1892      \\N              5           Animation,Short  \n",
       "2       0      1892      \\N              4  Animation,Comedy,Romance  \n",
       "3       0      1892      \\N             \\N           Animation,Short  \n",
       "4       0      1893      \\N              1              Comedy,Short  "
      ]
     },
     "execution_count": 18,
     "metadata": {},
     "output_type": "execute_result"
    }
   ],
   "source": [
    "df.head()"
   ]
  },
  {
   "cell_type": "code",
   "execution_count": 19,
   "metadata": {},
   "outputs": [
    {
     "data": {
      "text/html": [
       "<div>\n",
       "<style scoped>\n",
       "    .dataframe tbody tr th:only-of-type {\n",
       "        vertical-align: middle;\n",
       "    }\n",
       "\n",
       "    .dataframe tbody tr th {\n",
       "        vertical-align: top;\n",
       "    }\n",
       "\n",
       "    .dataframe thead th {\n",
       "        text-align: right;\n",
       "    }\n",
       "</style>\n",
       "<table border=\"1\" class=\"dataframe\">\n",
       "  <thead>\n",
       "    <tr style=\"text-align: right;\">\n",
       "      <th></th>\n",
       "      <th>tconst</th>\n",
       "      <th>averageRating</th>\n",
       "      <th>numVotes</th>\n",
       "    </tr>\n",
       "  </thead>\n",
       "  <tbody>\n",
       "    <tr>\n",
       "      <th>0</th>\n",
       "      <td>tt0000001</td>\n",
       "      <td>5.8</td>\n",
       "      <td>1507</td>\n",
       "    </tr>\n",
       "    <tr>\n",
       "      <th>1</th>\n",
       "      <td>tt0000002</td>\n",
       "      <td>6.3</td>\n",
       "      <td>183</td>\n",
       "    </tr>\n",
       "    <tr>\n",
       "      <th>2</th>\n",
       "      <td>tt0000003</td>\n",
       "      <td>6.6</td>\n",
       "      <td>1154</td>\n",
       "    </tr>\n",
       "    <tr>\n",
       "      <th>3</th>\n",
       "      <td>tt0000004</td>\n",
       "      <td>6.3</td>\n",
       "      <td>112</td>\n",
       "    </tr>\n",
       "    <tr>\n",
       "      <th>4</th>\n",
       "      <td>tt0000005</td>\n",
       "      <td>6.2</td>\n",
       "      <td>1854</td>\n",
       "    </tr>\n",
       "  </tbody>\n",
       "</table>\n",
       "</div>"
      ],
      "text/plain": [
       "      tconst  averageRating  numVotes\n",
       "0  tt0000001            5.8      1507\n",
       "1  tt0000002            6.3       183\n",
       "2  tt0000003            6.6      1154\n",
       "3  tt0000004            6.3       112\n",
       "4  tt0000005            6.2      1854"
      ]
     },
     "execution_count": 19,
     "metadata": {},
     "output_type": "execute_result"
    }
   ],
   "source": [
    "df2.head()"
   ]
  },
  {
   "cell_type": "code",
   "execution_count": 20,
   "metadata": {},
   "outputs": [],
   "source": [
    "df3 = pd.merge(df, df2, on='tconst')"
   ]
  },
  {
   "cell_type": "code",
   "execution_count": 21,
   "metadata": {},
   "outputs": [
    {
     "data": {
      "text/html": [
       "<div>\n",
       "<style scoped>\n",
       "    .dataframe tbody tr th:only-of-type {\n",
       "        vertical-align: middle;\n",
       "    }\n",
       "\n",
       "    .dataframe tbody tr th {\n",
       "        vertical-align: top;\n",
       "    }\n",
       "\n",
       "    .dataframe thead th {\n",
       "        text-align: right;\n",
       "    }\n",
       "</style>\n",
       "<table border=\"1\" class=\"dataframe\">\n",
       "  <thead>\n",
       "    <tr style=\"text-align: right;\">\n",
       "      <th></th>\n",
       "      <th>tconst</th>\n",
       "      <th>titleType</th>\n",
       "      <th>primaryTitle</th>\n",
       "      <th>originalTitle</th>\n",
       "      <th>isAdult</th>\n",
       "      <th>startYear</th>\n",
       "      <th>endYear</th>\n",
       "      <th>runtimeMinutes</th>\n",
       "      <th>genres</th>\n",
       "      <th>averageRating</th>\n",
       "      <th>numVotes</th>\n",
       "    </tr>\n",
       "  </thead>\n",
       "  <tbody>\n",
       "    <tr>\n",
       "      <th>0</th>\n",
       "      <td>tt0000001</td>\n",
       "      <td>short</td>\n",
       "      <td>Carmencita</td>\n",
       "      <td>Carmencita</td>\n",
       "      <td>0</td>\n",
       "      <td>1894</td>\n",
       "      <td>\\N</td>\n",
       "      <td>1</td>\n",
       "      <td>Documentary,Short</td>\n",
       "      <td>5.8</td>\n",
       "      <td>1507</td>\n",
       "    </tr>\n",
       "    <tr>\n",
       "      <th>1</th>\n",
       "      <td>tt0000002</td>\n",
       "      <td>short</td>\n",
       "      <td>Le clown et ses chiens</td>\n",
       "      <td>Le clown et ses chiens</td>\n",
       "      <td>0</td>\n",
       "      <td>1892</td>\n",
       "      <td>\\N</td>\n",
       "      <td>5</td>\n",
       "      <td>Animation,Short</td>\n",
       "      <td>6.3</td>\n",
       "      <td>183</td>\n",
       "    </tr>\n",
       "    <tr>\n",
       "      <th>2</th>\n",
       "      <td>tt0000003</td>\n",
       "      <td>short</td>\n",
       "      <td>Pauvre Pierrot</td>\n",
       "      <td>Pauvre Pierrot</td>\n",
       "      <td>0</td>\n",
       "      <td>1892</td>\n",
       "      <td>\\N</td>\n",
       "      <td>4</td>\n",
       "      <td>Animation,Comedy,Romance</td>\n",
       "      <td>6.6</td>\n",
       "      <td>1154</td>\n",
       "    </tr>\n",
       "    <tr>\n",
       "      <th>3</th>\n",
       "      <td>tt0000004</td>\n",
       "      <td>short</td>\n",
       "      <td>Un bon bock</td>\n",
       "      <td>Un bon bock</td>\n",
       "      <td>0</td>\n",
       "      <td>1892</td>\n",
       "      <td>\\N</td>\n",
       "      <td>\\N</td>\n",
       "      <td>Animation,Short</td>\n",
       "      <td>6.3</td>\n",
       "      <td>112</td>\n",
       "    </tr>\n",
       "    <tr>\n",
       "      <th>4</th>\n",
       "      <td>tt0000005</td>\n",
       "      <td>short</td>\n",
       "      <td>Blacksmith Scene</td>\n",
       "      <td>Blacksmith Scene</td>\n",
       "      <td>0</td>\n",
       "      <td>1893</td>\n",
       "      <td>\\N</td>\n",
       "      <td>1</td>\n",
       "      <td>Comedy,Short</td>\n",
       "      <td>6.2</td>\n",
       "      <td>1854</td>\n",
       "    </tr>\n",
       "  </tbody>\n",
       "</table>\n",
       "</div>"
      ],
      "text/plain": [
       "      tconst titleType            primaryTitle           originalTitle  \\\n",
       "0  tt0000001     short              Carmencita              Carmencita   \n",
       "1  tt0000002     short  Le clown et ses chiens  Le clown et ses chiens   \n",
       "2  tt0000003     short          Pauvre Pierrot          Pauvre Pierrot   \n",
       "3  tt0000004     short             Un bon bock             Un bon bock   \n",
       "4  tt0000005     short        Blacksmith Scene        Blacksmith Scene   \n",
       "\n",
       "  isAdult startYear endYear runtimeMinutes                    genres  \\\n",
       "0       0      1894      \\N              1         Documentary,Short   \n",
       "1       0      1892      \\N              5           Animation,Short   \n",
       "2       0      1892      \\N              4  Animation,Comedy,Romance   \n",
       "3       0      1892      \\N             \\N           Animation,Short   \n",
       "4       0      1893      \\N              1              Comedy,Short   \n",
       "\n",
       "   averageRating  numVotes  \n",
       "0            5.8      1507  \n",
       "1            6.3       183  \n",
       "2            6.6      1154  \n",
       "3            6.3       112  \n",
       "4            6.2      1854  "
      ]
     },
     "execution_count": 21,
     "metadata": {},
     "output_type": "execute_result"
    }
   ],
   "source": [
    "df3.head()"
   ]
  },
  {
   "cell_type": "code",
   "execution_count": 22,
   "metadata": {},
   "outputs": [
    {
     "name": "stdout",
     "output_type": "stream",
     "text": [
      "<class 'pandas.core.frame.DataFrame'>\n",
      "Int64Index: 939667 entries, 0 to 939666\n",
      "Data columns (total 11 columns):\n",
      "tconst            939667 non-null object\n",
      "titleType         939667 non-null object\n",
      "primaryTitle      939667 non-null object\n",
      "originalTitle     939667 non-null object\n",
      "isAdult           939667 non-null object\n",
      "startYear         939667 non-null object\n",
      "endYear           939667 non-null object\n",
      "runtimeMinutes    939667 non-null object\n",
      "genres            939667 non-null object\n",
      "averageRating     939667 non-null float64\n",
      "numVotes          939667 non-null int64\n",
      "dtypes: float64(1), int64(1), object(9)\n",
      "memory usage: 86.0+ MB\n"
     ]
    }
   ],
   "source": [
    "df3.info()"
   ]
  },
  {
   "cell_type": "markdown",
   "metadata": {},
   "source": [
    "Анализируем самую поппулярную категорию - tvEpisode."
   ]
  },
  {
   "cell_type": "code",
   "execution_count": 23,
   "metadata": {},
   "outputs": [],
   "source": [
    "df3.runtimeMinutes = pd.to_numeric(df3.runtimeMinutes, errors='coerce').fillna(0).astype(int)\n",
    "df3.isAdult = pd.to_numeric(df3.isAdult, errors='coerce').fillna(0).astype(bool)"
   ]
  },
  {
   "cell_type": "code",
   "execution_count": 24,
   "metadata": {},
   "outputs": [],
   "source": [
    "df4 = df3[df3['titleType'] == 'tvEpisode']"
   ]
  },
  {
   "cell_type": "code",
   "execution_count": 25,
   "metadata": {},
   "outputs": [
    {
     "data": {
      "text/plain": [
       "<matplotlib.axes._subplots.AxesSubplot at 0x7fac08f03390>"
      ]
     },
     "execution_count": 25,
     "metadata": {},
     "output_type": "execute_result"
    },
    {
     "data": {
      "image/png": "[encoded data removed]",
      "text/plain": [
       "<Figure size 1008x576 with 1 Axes>"
      ]
     },
     "metadata": {
      "needs_background": "light"
     },
     "output_type": "display_data"
    }
   ],
   "source": [
    "df4.plot(x='numVotes', y='runtimeMinutes', kind='scatter', figsize=(14, 8))"
   ]
  },
  {
   "cell_type": "code",
   "execution_count": 26,
   "metadata": {},
   "outputs": [
    {
     "data": {
      "text/html": [
       "<div>\n",
       "<style scoped>\n",
       "    .dataframe tbody tr th:only-of-type {\n",
       "        vertical-align: middle;\n",
       "    }\n",
       "\n",
       "    .dataframe tbody tr th {\n",
       "        vertical-align: top;\n",
       "    }\n",
       "\n",
       "    .dataframe thead th {\n",
       "        text-align: right;\n",
       "    }\n",
       "</style>\n",
       "<table border=\"1\" class=\"dataframe\">\n",
       "  <thead>\n",
       "    <tr style=\"text-align: right;\">\n",
       "      <th></th>\n",
       "      <th>runtimeMinutes</th>\n",
       "      <th>averageRating</th>\n",
       "      <th>numVotes</th>\n",
       "    </tr>\n",
       "  </thead>\n",
       "  <tbody>\n",
       "    <tr>\n",
       "      <th>count</th>\n",
       "      <td>409355.000000</td>\n",
       "      <td>409355.000000</td>\n",
       "      <td>409355.000000</td>\n",
       "    </tr>\n",
       "    <tr>\n",
       "      <th>mean</th>\n",
       "      <td>23.922185</td>\n",
       "      <td>7.399345</td>\n",
       "      <td>133.297473</td>\n",
       "    </tr>\n",
       "    <tr>\n",
       "      <th>std</th>\n",
       "      <td>24.177873</td>\n",
       "      <td>1.211490</td>\n",
       "      <td>1011.994575</td>\n",
       "    </tr>\n",
       "    <tr>\n",
       "      <th>min</th>\n",
       "      <td>0.000000</td>\n",
       "      <td>1.000000</td>\n",
       "      <td>5.000000</td>\n",
       "    </tr>\n",
       "    <tr>\n",
       "      <th>25%</th>\n",
       "      <td>0.000000</td>\n",
       "      <td>6.800000</td>\n",
       "      <td>8.000000</td>\n",
       "    </tr>\n",
       "    <tr>\n",
       "      <th>50%</th>\n",
       "      <td>23.000000</td>\n",
       "      <td>7.600000</td>\n",
       "      <td>16.000000</td>\n",
       "    </tr>\n",
       "    <tr>\n",
       "      <th>75%</th>\n",
       "      <td>43.000000</td>\n",
       "      <td>8.200000</td>\n",
       "      <td>54.000000</td>\n",
       "    </tr>\n",
       "    <tr>\n",
       "      <th>max</th>\n",
       "      <td>543.000000</td>\n",
       "      <td>10.000000</td>\n",
       "      <td>199201.000000</td>\n",
       "    </tr>\n",
       "  </tbody>\n",
       "</table>\n",
       "</div>"
      ],
      "text/plain": [
       "       runtimeMinutes  averageRating       numVotes\n",
       "count   409355.000000  409355.000000  409355.000000\n",
       "mean        23.922185       7.399345     133.297473\n",
       "std         24.177873       1.211490    1011.994575\n",
       "min          0.000000       1.000000       5.000000\n",
       "25%          0.000000       6.800000       8.000000\n",
       "50%         23.000000       7.600000      16.000000\n",
       "75%         43.000000       8.200000      54.000000\n",
       "max        543.000000      10.000000  199201.000000"
      ]
     },
     "execution_count": 26,
     "metadata": {},
     "output_type": "execute_result"
    }
   ],
   "source": [
    "df4.describe()"
   ]
  },
  {
   "cell_type": "markdown",
   "metadata": {},
   "source": [
    "#### Самые ожидаемый контент сериями продолжительностью от 40 минут."
   ]
  },
  {
   "cell_type": "markdown",
   "metadata": {},
   "source": [
    "Добавляем информацию по регионам и изучаем ситуацию в регионе RU."
   ]
  },
  {
   "cell_type": "code",
   "execution_count": 27,
   "metadata": {},
   "outputs": [
    {
     "name": "stdout",
     "output_type": "stream",
     "text": [
      "<class 'pandas.core.frame.DataFrame'>\n",
      "RangeIndex: 3672726 entries, 0 to 3672725\n",
      "Data columns (total 8 columns):\n",
      "tconst             object\n",
      "ordering           object\n",
      "title              object\n",
      "region             object\n",
      "language           object\n",
      "types              object\n",
      "attributes         object\n",
      "isOriginalTitle    object\n",
      "dtypes: object(8)\n",
      "memory usage: 224.2+ MB\n"
     ]
    }
   ],
   "source": [
    "df5 = pd.read_csv('title_akas.csv', sep='\\t', dtype='unicode')\n",
    "df5 = df5.rename(columns={'titleId': 'tconst'})\n",
    "df5.info()"
   ]
  },
  {
   "cell_type": "code",
   "execution_count": 28,
   "metadata": {},
   "outputs": [],
   "source": [
    "df5 = pd.merge(df3, df5, on='tconst')"
   ]
  },
  {
   "cell_type": "code",
   "execution_count": 39,
   "metadata": {},
   "outputs": [
    {
     "data": {
      "text/html": [
       "<div>\n",
       "<style scoped>\n",
       "    .dataframe tbody tr th:only-of-type {\n",
       "        vertical-align: middle;\n",
       "    }\n",
       "\n",
       "    .dataframe tbody tr th {\n",
       "        vertical-align: top;\n",
       "    }\n",
       "\n",
       "    .dataframe thead th {\n",
       "        text-align: right;\n",
       "    }\n",
       "</style>\n",
       "<table border=\"1\" class=\"dataframe\">\n",
       "  <thead>\n",
       "    <tr style=\"text-align: right;\">\n",
       "      <th></th>\n",
       "      <th>tconst</th>\n",
       "      <th>titleType</th>\n",
       "      <th>primaryTitle</th>\n",
       "      <th>originalTitle</th>\n",
       "      <th>isAdult</th>\n",
       "      <th>startYear</th>\n",
       "      <th>endYear</th>\n",
       "      <th>runtimeMinutes</th>\n",
       "      <th>genres</th>\n",
       "      <th>averageRating</th>\n",
       "      <th>numVotes</th>\n",
       "      <th>ordering</th>\n",
       "      <th>title</th>\n",
       "      <th>region</th>\n",
       "      <th>language</th>\n",
       "      <th>types</th>\n",
       "      <th>attributes</th>\n",
       "      <th>isOriginalTitle</th>\n",
       "    </tr>\n",
       "  </thead>\n",
       "  <tbody>\n",
       "    <tr>\n",
       "      <th>1896979</th>\n",
       "      <td>tt9875852</td>\n",
       "      <td>movie</td>\n",
       "      <td>The House Elf</td>\n",
       "      <td>Domovoy</td>\n",
       "      <td>False</td>\n",
       "      <td>2019</td>\n",
       "      <td>\\N</td>\n",
       "      <td>90</td>\n",
       "      <td>Comedy,Family,Fantasy</td>\n",
       "      <td>5.8</td>\n",
       "      <td>45</td>\n",
       "      <td>3</td>\n",
       "      <td>Домовой</td>\n",
       "      <td>RU</td>\n",
       "      <td>\\N</td>\n",
       "      <td>\\N</td>\n",
       "      <td>\\N</td>\n",
       "      <td>0</td>\n",
       "    </tr>\n",
       "    <tr>\n",
       "      <th>1896981</th>\n",
       "      <td>tt9876160</td>\n",
       "      <td>movie</td>\n",
       "      <td>Koridor bessmertiya</td>\n",
       "      <td>Koridor bessmertiya</td>\n",
       "      <td>False</td>\n",
       "      <td>2019</td>\n",
       "      <td>\\N</td>\n",
       "      <td>125</td>\n",
       "      <td>\\N</td>\n",
       "      <td>6.6</td>\n",
       "      <td>20</td>\n",
       "      <td>2</td>\n",
       "      <td>Коридор бессмертия</td>\n",
       "      <td>RU</td>\n",
       "      <td>\\N</td>\n",
       "      <td>\\N</td>\n",
       "      <td>\\N</td>\n",
       "      <td>0</td>\n",
       "    </tr>\n",
       "    <tr>\n",
       "      <th>1897012</th>\n",
       "      <td>tt9883346</td>\n",
       "      <td>tvSeries</td>\n",
       "      <td>The Helpful Fox Senko-san</td>\n",
       "      <td>Sewayaki Kitsune no Senko-san</td>\n",
       "      <td>False</td>\n",
       "      <td>2019</td>\n",
       "      <td>\\N</td>\n",
       "      <td>23</td>\n",
       "      <td>Animation,Comedy,Fantasy</td>\n",
       "      <td>7.8</td>\n",
       "      <td>46</td>\n",
       "      <td>3</td>\n",
       "      <td>Заботливая 800-летняя жена!</td>\n",
       "      <td>RU</td>\n",
       "      <td>\\N</td>\n",
       "      <td>\\N</td>\n",
       "      <td>\\N</td>\n",
       "      <td>0</td>\n",
       "    </tr>\n",
       "    <tr>\n",
       "      <th>1897022</th>\n",
       "      <td>tt9886950</td>\n",
       "      <td>tvSeries</td>\n",
       "      <td>Well-Intended Love</td>\n",
       "      <td>Well-Intended Love</td>\n",
       "      <td>False</td>\n",
       "      <td>2019</td>\n",
       "      <td>2019</td>\n",
       "      <td>45</td>\n",
       "      <td>Drama,Romance</td>\n",
       "      <td>7.6</td>\n",
       "      <td>105</td>\n",
       "      <td>1</td>\n",
       "      <td>Мой босс хочет на мне жениться</td>\n",
       "      <td>RU</td>\n",
       "      <td>\\N</td>\n",
       "      <td>\\N</td>\n",
       "      <td>\\N</td>\n",
       "      <td>0</td>\n",
       "    </tr>\n",
       "    <tr>\n",
       "      <th>1897101</th>\n",
       "      <td>tt9914458</td>\n",
       "      <td>video</td>\n",
       "      <td>Alien Messiah</td>\n",
       "      <td>Alien Messiah</td>\n",
       "      <td>False</td>\n",
       "      <td>2019</td>\n",
       "      <td>\\N</td>\n",
       "      <td>75</td>\n",
       "      <td>Sci-Fi</td>\n",
       "      <td>2.5</td>\n",
       "      <td>34</td>\n",
       "      <td>3</td>\n",
       "      <td>Пришелец Мессия</td>\n",
       "      <td>RU</td>\n",
       "      <td>\\N</td>\n",
       "      <td>\\N</td>\n",
       "      <td>\\N</td>\n",
       "      <td>0</td>\n",
       "    </tr>\n",
       "  </tbody>\n",
       "</table>\n",
       "</div>"
      ],
      "text/plain": [
       "            tconst titleType               primaryTitle  \\\n",
       "1896979  tt9875852     movie              The House Elf   \n",
       "1896981  tt9876160     movie        Koridor bessmertiya   \n",
       "1897012  tt9883346  tvSeries  The Helpful Fox Senko-san   \n",
       "1897022  tt9886950  tvSeries         Well-Intended Love   \n",
       "1897101  tt9914458     video              Alien Messiah   \n",
       "\n",
       "                         originalTitle  isAdult startYear endYear  \\\n",
       "1896979                        Domovoy    False      2019      \\N   \n",
       "1896981            Koridor bessmertiya    False      2019      \\N   \n",
       "1897012  Sewayaki Kitsune no Senko-san    False      2019      \\N   \n",
       "1897022             Well-Intended Love    False      2019    2019   \n",
       "1897101                  Alien Messiah    False      2019      \\N   \n",
       "\n",
       "         runtimeMinutes                    genres  averageRating  numVotes  \\\n",
       "1896979              90     Comedy,Family,Fantasy            5.8        45   \n",
       "1896981             125                        \\N            6.6        20   \n",
       "1897012              23  Animation,Comedy,Fantasy            7.8        46   \n",
       "1897022              45             Drama,Romance            7.6       105   \n",
       "1897101              75                    Sci-Fi            2.5        34   \n",
       "\n",
       "        ordering                           title region language types  \\\n",
       "1896979        3                         Домовой     RU       \\N    \\N   \n",
       "1896981        2              Коридор бессмертия     RU       \\N    \\N   \n",
       "1897012        3     Заботливая 800-летняя жена!     RU       \\N    \\N   \n",
       "1897022        1  Мой босс хочет на мне жениться     RU       \\N    \\N   \n",
       "1897101        3                 Пришелец Мессия     RU       \\N    \\N   \n",
       "\n",
       "        attributes isOriginalTitle  \n",
       "1896979         \\N               0  \n",
       "1896981         \\N               0  \n",
       "1897012         \\N               0  \n",
       "1897022         \\N               0  \n",
       "1897101         \\N               0  "
      ]
     },
     "execution_count": 39,
     "metadata": {},
     "output_type": "execute_result"
    }
   ],
   "source": [
    "df5.tail()"
   ]
  },
  {
   "cell_type": "code",
   "execution_count": 30,
   "metadata": {},
   "outputs": [],
   "source": [
    "df5 = df5[df5['region'] == 'RU']"
   ]
  },
  {
   "cell_type": "code",
   "execution_count": 31,
   "metadata": {},
   "outputs": [
    {
     "name": "stdout",
     "output_type": "stream",
     "text": [
      "<class 'pandas.core.frame.DataFrame'>\n",
      "Int64Index: 42099 entries, 2 to 1897101\n",
      "Data columns (total 18 columns):\n",
      "tconst             42099 non-null object\n",
      "titleType          42099 non-null object\n",
      "primaryTitle       42099 non-null object\n",
      "originalTitle      42099 non-null object\n",
      "isAdult            42099 non-null bool\n",
      "startYear          42099 non-null object\n",
      "endYear            42099 non-null object\n",
      "runtimeMinutes     42099 non-null int64\n",
      "genres             42099 non-null object\n",
      "averageRating      42099 non-null float64\n",
      "numVotes           42099 non-null int64\n",
      "ordering           42099 non-null object\n",
      "title              42099 non-null object\n",
      "region             42099 non-null object\n",
      "language           42099 non-null object\n",
      "types              42099 non-null object\n",
      "attributes         42099 non-null object\n",
      "isOriginalTitle    42099 non-null object\n",
      "dtypes: bool(1), float64(1), int64(2), object(14)\n",
      "memory usage: 5.8+ MB\n"
     ]
    }
   ],
   "source": [
    "df5.info()"
   ]
  },
  {
   "cell_type": "code",
   "execution_count": 32,
   "metadata": {},
   "outputs": [],
   "source": [
    "df5_1 = df5.groupby(['startYear','titleType']).size().reset_index(name='counts')"
   ]
  },
  {
   "cell_type": "code",
   "execution_count": 33,
   "metadata": {},
   "outputs": [
    {
     "data": {
      "text/plain": [
       "titleType\n",
       "movie           AxesSubplot(0.125,0.125;0.775x0.755)\n",
       "short           AxesSubplot(0.125,0.125;0.775x0.755)\n",
       "tvEpisode       AxesSubplot(0.125,0.125;0.775x0.755)\n",
       "tvMiniSeries    AxesSubplot(0.125,0.125;0.775x0.755)\n",
       "tvMovie         AxesSubplot(0.125,0.125;0.775x0.755)\n",
       "tvSeries        AxesSubplot(0.125,0.125;0.775x0.755)\n",
       "tvShort         AxesSubplot(0.125,0.125;0.775x0.755)\n",
       "tvSpecial       AxesSubplot(0.125,0.125;0.775x0.755)\n",
       "video           AxesSubplot(0.125,0.125;0.775x0.755)\n",
       "videoGame       AxesSubplot(0.125,0.125;0.775x0.755)\n",
       "Name: counts, dtype: object"
      ]
     },
     "execution_count": 33,
     "metadata": {},
     "output_type": "execute_result"
    },
    {
     "data": {
      "image/png": "[encoded data removed]",
      "text/plain": [
       "<Figure size 1008x576 with 1 Axes>"
      ]
     },
     "metadata": {
      "needs_background": "light"
     },
     "output_type": "display_data"
    }
   ],
   "source": [
    "fig, ax = plt.subplots()\n",
    "df5_1.groupby('titleType')['counts'].plot(x='startYear', ax=ax, legend=True, figsize=(14, 8))"
   ]
  },
  {
   "cell_type": "code",
   "execution_count": 34,
   "metadata": {},
   "outputs": [
    {
     "data": {
      "text/html": [
       "<div>\n",
       "<style scoped>\n",
       "    .dataframe tbody tr th:only-of-type {\n",
       "        vertical-align: middle;\n",
       "    }\n",
       "\n",
       "    .dataframe tbody tr th {\n",
       "        vertical-align: top;\n",
       "    }\n",
       "\n",
       "    .dataframe thead tr th {\n",
       "        text-align: left;\n",
       "    }\n",
       "\n",
       "    .dataframe thead tr:last-of-type th {\n",
       "        text-align: right;\n",
       "    }\n",
       "</style>\n",
       "<table border=\"1\" class=\"dataframe\">\n",
       "  <thead>\n",
       "    <tr>\n",
       "      <th></th>\n",
       "      <th colspan=\"8\" halign=\"left\">counts</th>\n",
       "    </tr>\n",
       "    <tr>\n",
       "      <th></th>\n",
       "      <th>count</th>\n",
       "      <th>mean</th>\n",
       "      <th>std</th>\n",
       "      <th>min</th>\n",
       "      <th>25%</th>\n",
       "      <th>50%</th>\n",
       "      <th>75%</th>\n",
       "      <th>max</th>\n",
       "    </tr>\n",
       "    <tr>\n",
       "      <th>titleType</th>\n",
       "      <th></th>\n",
       "      <th></th>\n",
       "      <th></th>\n",
       "      <th></th>\n",
       "      <th></th>\n",
       "      <th></th>\n",
       "      <th></th>\n",
       "      <th></th>\n",
       "    </tr>\n",
       "  </thead>\n",
       "  <tbody>\n",
       "    <tr>\n",
       "      <th>movie</th>\n",
       "      <td>113.0</td>\n",
       "      <td>241.017699</td>\n",
       "      <td>443.566753</td>\n",
       "      <td>1.0</td>\n",
       "      <td>11.0</td>\n",
       "      <td>28.0</td>\n",
       "      <td>70.00</td>\n",
       "      <td>1495.0</td>\n",
       "    </tr>\n",
       "    <tr>\n",
       "      <th>short</th>\n",
       "      <td>114.0</td>\n",
       "      <td>30.122807</td>\n",
       "      <td>46.446875</td>\n",
       "      <td>1.0</td>\n",
       "      <td>2.0</td>\n",
       "      <td>6.5</td>\n",
       "      <td>35.50</td>\n",
       "      <td>236.0</td>\n",
       "    </tr>\n",
       "    <tr>\n",
       "      <th>tvEpisode</th>\n",
       "      <td>25.0</td>\n",
       "      <td>4.920000</td>\n",
       "      <td>3.239341</td>\n",
       "      <td>1.0</td>\n",
       "      <td>3.0</td>\n",
       "      <td>4.0</td>\n",
       "      <td>5.00</td>\n",
       "      <td>14.0</td>\n",
       "    </tr>\n",
       "    <tr>\n",
       "      <th>tvMiniSeries</th>\n",
       "      <td>47.0</td>\n",
       "      <td>24.510638</td>\n",
       "      <td>26.855388</td>\n",
       "      <td>1.0</td>\n",
       "      <td>2.0</td>\n",
       "      <td>12.0</td>\n",
       "      <td>43.00</td>\n",
       "      <td>87.0</td>\n",
       "    </tr>\n",
       "    <tr>\n",
       "      <th>tvMovie</th>\n",
       "      <td>58.0</td>\n",
       "      <td>40.948276</td>\n",
       "      <td>44.493020</td>\n",
       "      <td>1.0</td>\n",
       "      <td>4.0</td>\n",
       "      <td>11.5</td>\n",
       "      <td>78.75</td>\n",
       "      <td>134.0</td>\n",
       "    </tr>\n",
       "    <tr>\n",
       "      <th>tvSeries</th>\n",
       "      <td>70.0</td>\n",
       "      <td>77.128571</td>\n",
       "      <td>112.723198</td>\n",
       "      <td>1.0</td>\n",
       "      <td>3.0</td>\n",
       "      <td>6.5</td>\n",
       "      <td>124.00</td>\n",
       "      <td>352.0</td>\n",
       "    </tr>\n",
       "    <tr>\n",
       "      <th>tvShort</th>\n",
       "      <td>43.0</td>\n",
       "      <td>3.255814</td>\n",
       "      <td>2.268763</td>\n",
       "      <td>1.0</td>\n",
       "      <td>1.0</td>\n",
       "      <td>3.0</td>\n",
       "      <td>5.00</td>\n",
       "      <td>11.0</td>\n",
       "    </tr>\n",
       "    <tr>\n",
       "      <th>tvSpecial</th>\n",
       "      <td>30.0</td>\n",
       "      <td>9.466667</td>\n",
       "      <td>6.821535</td>\n",
       "      <td>1.0</td>\n",
       "      <td>4.0</td>\n",
       "      <td>8.5</td>\n",
       "      <td>15.00</td>\n",
       "      <td>23.0</td>\n",
       "    </tr>\n",
       "    <tr>\n",
       "      <th>video</th>\n",
       "      <td>37.0</td>\n",
       "      <td>48.702703</td>\n",
       "      <td>40.790021</td>\n",
       "      <td>1.0</td>\n",
       "      <td>4.0</td>\n",
       "      <td>43.0</td>\n",
       "      <td>84.00</td>\n",
       "      <td>129.0</td>\n",
       "    </tr>\n",
       "    <tr>\n",
       "      <th>videoGame</th>\n",
       "      <td>25.0</td>\n",
       "      <td>6.200000</td>\n",
       "      <td>4.462809</td>\n",
       "      <td>1.0</td>\n",
       "      <td>3.0</td>\n",
       "      <td>7.0</td>\n",
       "      <td>7.00</td>\n",
       "      <td>20.0</td>\n",
       "    </tr>\n",
       "  </tbody>\n",
       "</table>\n",
       "</div>"
      ],
      "text/plain": [
       "             counts                                                         \n",
       "              count        mean         std  min   25%   50%     75%     max\n",
       "titleType                                                                   \n",
       "movie         113.0  241.017699  443.566753  1.0  11.0  28.0   70.00  1495.0\n",
       "short         114.0   30.122807   46.446875  1.0   2.0   6.5   35.50   236.0\n",
       "tvEpisode      25.0    4.920000    3.239341  1.0   3.0   4.0    5.00    14.0\n",
       "tvMiniSeries   47.0   24.510638   26.855388  1.0   2.0  12.0   43.00    87.0\n",
       "tvMovie        58.0   40.948276   44.493020  1.0   4.0  11.5   78.75   134.0\n",
       "tvSeries       70.0   77.128571  112.723198  1.0   3.0   6.5  124.00   352.0\n",
       "tvShort        43.0    3.255814    2.268763  1.0   1.0   3.0    5.00    11.0\n",
       "tvSpecial      30.0    9.466667    6.821535  1.0   4.0   8.5   15.00    23.0\n",
       "video          37.0   48.702703   40.790021  1.0   4.0  43.0   84.00   129.0\n",
       "videoGame      25.0    6.200000    4.462809  1.0   3.0   7.0    7.00    20.0"
      ]
     },
     "execution_count": 34,
     "metadata": {},
     "output_type": "execute_result"
    }
   ],
   "source": [
    "df5_1.groupby('titleType').describe()"
   ]
  },
  {
   "cell_type": "markdown",
   "metadata": {},
   "source": [
    "#### В регион RU существует общий тренд к росту производства контента, но наибольший уклон в сторону movie и tvSeries."
   ]
  },
  {
   "cell_type": "code",
   "execution_count": 35,
   "metadata": {},
   "outputs": [
    {
     "name": "stdout",
     "output_type": "stream",
     "text": [
      "<class 'pandas.core.frame.DataFrame'>\n",
      "Int64Index: 42099 entries, 2 to 1897101\n",
      "Data columns (total 18 columns):\n",
      "tconst             42099 non-null object\n",
      "titleType          42099 non-null object\n",
      "primaryTitle       42099 non-null object\n",
      "originalTitle      42099 non-null object\n",
      "isAdult            42099 non-null bool\n",
      "startYear          42099 non-null object\n",
      "endYear            42099 non-null object\n",
      "runtimeMinutes     42099 non-null int64\n",
      "genres             42099 non-null object\n",
      "averageRating      42099 non-null float64\n",
      "numVotes           42099 non-null int64\n",
      "ordering           42099 non-null object\n",
      "title              42099 non-null object\n",
      "region             42099 non-null object\n",
      "language           42099 non-null object\n",
      "types              42099 non-null object\n",
      "attributes         42099 non-null object\n",
      "isOriginalTitle    42099 non-null object\n",
      "dtypes: bool(1), float64(1), int64(2), object(14)\n",
      "memory usage: 5.8+ MB\n"
     ]
    }
   ],
   "source": [
    "df5.info()"
   ]
  },
  {
   "cell_type": "code",
   "execution_count": 36,
   "metadata": {},
   "outputs": [
    {
     "data": {
      "text/plain": [
       "<matplotlib.axes._subplots.AxesSubplot at 0x7fabcb141d30>"
      ]
     },
     "execution_count": 36,
     "metadata": {},
     "output_type": "execute_result"
    },
    {
     "data": {
      "image/png": "[encoded data removed]",
      "text/plain": [
       "<Figure size 1008x576 with 1 Axes>"
      ]
     },
     "metadata": {
      "needs_background": "light"
     },
     "output_type": "display_data"
    }
   ],
   "source": [
    "df5.plot(x='numVotes', y='averageRating', kind='scatter', figsize=(14, 8))"
   ]
  },
  {
   "cell_type": "code",
   "execution_count": 37,
   "metadata": {},
   "outputs": [
    {
     "data": {
      "text/html": [
       "<div>\n",
       "<style scoped>\n",
       "    .dataframe tbody tr th:only-of-type {\n",
       "        vertical-align: middle;\n",
       "    }\n",
       "\n",
       "    .dataframe tbody tr th {\n",
       "        vertical-align: top;\n",
       "    }\n",
       "\n",
       "    .dataframe thead th {\n",
       "        text-align: right;\n",
       "    }\n",
       "</style>\n",
       "<table border=\"1\" class=\"dataframe\">\n",
       "  <thead>\n",
       "    <tr style=\"text-align: right;\">\n",
       "      <th></th>\n",
       "      <th>runtimeMinutes</th>\n",
       "      <th>averageRating</th>\n",
       "      <th>numVotes</th>\n",
       "    </tr>\n",
       "  </thead>\n",
       "  <tbody>\n",
       "    <tr>\n",
       "      <th>count</th>\n",
       "      <td>42099.000000</td>\n",
       "      <td>42099.000000</td>\n",
       "      <td>4.209900e+04</td>\n",
       "    </tr>\n",
       "    <tr>\n",
       "      <th>mean</th>\n",
       "      <td>84.964251</td>\n",
       "      <td>6.337678</td>\n",
       "      <td>1.687137e+04</td>\n",
       "    </tr>\n",
       "    <tr>\n",
       "      <th>std</th>\n",
       "      <td>64.507929</td>\n",
       "      <td>1.365228</td>\n",
       "      <td>6.988608e+04</td>\n",
       "    </tr>\n",
       "    <tr>\n",
       "      <th>min</th>\n",
       "      <td>0.000000</td>\n",
       "      <td>1.000000</td>\n",
       "      <td>5.000000e+00</td>\n",
       "    </tr>\n",
       "    <tr>\n",
       "      <th>25%</th>\n",
       "      <td>60.000000</td>\n",
       "      <td>5.600000</td>\n",
       "      <td>3.460000e+02</td>\n",
       "    </tr>\n",
       "    <tr>\n",
       "      <th>50%</th>\n",
       "      <td>91.000000</td>\n",
       "      <td>6.500000</td>\n",
       "      <td>1.435000e+03</td>\n",
       "    </tr>\n",
       "    <tr>\n",
       "      <th>75%</th>\n",
       "      <td>105.000000</td>\n",
       "      <td>7.300000</td>\n",
       "      <td>5.186000e+03</td>\n",
       "    </tr>\n",
       "    <tr>\n",
       "      <th>max</th>\n",
       "      <td>3900.000000</td>\n",
       "      <td>9.800000</td>\n",
       "      <td>2.096697e+06</td>\n",
       "    </tr>\n",
       "  </tbody>\n",
       "</table>\n",
       "</div>"
      ],
      "text/plain": [
       "       runtimeMinutes  averageRating      numVotes\n",
       "count    42099.000000   42099.000000  4.209900e+04\n",
       "mean        84.964251       6.337678  1.687137e+04\n",
       "std         64.507929       1.365228  6.988608e+04\n",
       "min          0.000000       1.000000  5.000000e+00\n",
       "25%         60.000000       5.600000  3.460000e+02\n",
       "50%         91.000000       6.500000  1.435000e+03\n",
       "75%        105.000000       7.300000  5.186000e+03\n",
       "max       3900.000000       9.800000  2.096697e+06"
      ]
     },
     "execution_count": 37,
     "metadata": {},
     "output_type": "execute_result"
    }
   ],
   "source": [
    "df5.describe()"
   ]
  },
  {
   "cell_type": "code",
   "execution_count": 38,
   "metadata": {},
   "outputs": [
    {
     "data": {
      "text/plain": [
       "<matplotlib.axes._subplots.AxesSubplot at 0x7fabc1a356a0>"
      ]
     },
     "execution_count": 38,
     "metadata": {},
     "output_type": "execute_result"
    },
    {
     "data": {
      "image/png": "[encoded data removed]",
      "text/plain": [
       "<Figure size 1008x576 with 1 Axes>"
      ]
     },
     "metadata": {
      "needs_background": "light"
     },
     "output_type": "display_data"
    }
   ],
   "source": [
    "df5 = df5[df5['runtimeMinutes'] < 600]\n",
    "df5.plot(x='numVotes', y='runtimeMinutes', kind='scatter', figsize=(14, 8))"
   ]
  },
  {
   "cell_type": "markdown",
   "metadata": {},
   "source": [
    "#### В регионе RU самые распрастранный контент сериями продолжительностью от 105 минут."
   ]
  },
  {
   "cell_type": "markdown",
   "metadata": {},
   "source": [
    "### Итоги анализа\n",
    "#### Регион RU развивается не в общем мировом тренде, и создает в большинстве полнометражные картины, которые в целом пользуются популярностью внутри региона, но на мировой арене спрос на продукт изменился в 1990-1995 году. Вектор развития региона не позволит создать свой голивуд, т.к. не совпадает с мировыми потребностями в контенте. В разрезе времени продукт региона, в международном актуальном продукте, занимает все меньшую долю с каждым годом."
   ]
  }
 ],
 "metadata": {
  "kernelspec": {
   "display_name": "Python 3",
   "language": "python",
   "name": "python3"
  },
  "language_info": {
   "codemirror_mode": {
    "name": "ipython",
    "version": 3
   },
   "file_extension": ".py",
   "mimetype": "text/x-python",
   "name": "python",
   "nbconvert_exporter": "python",
   "pygments_lexer": "ipython3",
   "version": "3.7.1"
  }
 },
 "nbformat": 4,
 "nbformat_minor": 2
}
