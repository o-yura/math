{
 "cells": [
  {
   "cell_type": "markdown",
   "metadata": {},
   "source": [
    "### Теория вероятностей и математическая статистика. Урок 4. Непрерывные случайные величины. Функция распределения и плотность распределения вероятностей. Равномерное и нормальное распределение. Центральная предельная теорема"
   ]
  },
  {
   "cell_type": "markdown",
   "metadata": {},
   "source": [
    "#### 1. Случайная непрерывная величина A имеет равномерное распределение на промежутке (200, 800]. Найдите ее среднее значение и дисперсию."
   ]
  },
  {
   "cell_type": "code",
   "execution_count": 21,
   "metadata": {},
   "outputs": [
    {
     "name": "stdout",
     "output_type": "stream",
     "text": [
      "Среднее значение: 499.5\n",
      "Дисперсия: 301.00083333333333\n"
     ]
    }
   ],
   "source": [
    "k = 100\n",
    "a = 199/k \n",
    "b = 800/k\n",
    "print(\"Среднее значение:\", ((a+b)/2)*k)\n",
    "print(\"Дисперсия:\", ((b-a)**2/12)*k)"
   ]
  },
  {
   "cell_type": "markdown",
   "metadata": {},
   "source": [
    "#### 2.О случайной непрерывной равномерно распределенной величине B известно, что ее дисперсия равна 0.2. Можно ли найти правую границу величины B и ее среднее значение зная, что левая граница равна 0.5? Если да, найдите ее."
   ]
  },
  {
   "cell_type": "markdown",
   "metadata": {},
   "source": [
    "d = 0.2, a = 0.5, b = ?\n",
    "\n",
    "d = (b - a)**2 / 12\n",
    "\n",
    "b - a =  sqrt (12 * d)\n",
    "\n",
    "b = sqrt (12 * d) + a \n",
    "\n",
    "mid = (a + b)/2"
   ]
  },
  {
   "cell_type": "code",
   "execution_count": 22,
   "metadata": {},
   "outputs": [
    {
     "name": "stdout",
     "output_type": "stream",
     "text": [
      "Правая граница: 2.049193338482967\n"
     ]
    }
   ],
   "source": [
    "import math\n",
    "a = 0.5\n",
    "d = 0.2\n",
    "b = math.sqrt(12*d) + a\n",
    "print(\"Правая граница:\", b)"
   ]
  },
  {
   "cell_type": "code",
   "execution_count": 23,
   "metadata": {},
   "outputs": [
    {
     "name": "stdout",
     "output_type": "stream",
     "text": [
      "Среднее значение: 1.2745966692414834\n"
     ]
    }
   ],
   "source": [
    "mid = (0.5 + b)/2\n",
    "print (\"Среднее значение:\", mid)"
   ]
  },
  {
   "cell_type": "markdown",
   "metadata": {},
   "source": [
    "#### 3. Непрерывная случайная величина X распределена нормально и задана плотностью распределения\n",
    "#### f(x) = (1 / (4 * sqrt(2*pi))) * (exp(-(x+2)**2) / 32).\n",
    "#### Найдите:\n",
    "#### а). M(X)\n",
    "#### б). D(X)\n",
    "#### в). std(X) (среднее квадратичное отклонение)"
   ]
  },
  {
   "cell_type": "markdown",
   "metadata": {},
   "source": [
    "Согласно формуле нормального распределения:\n",
    "\n",
    "a). -2\n",
    "\n",
    "б). 16\n",
    "\n",
    "в). 4"
   ]
  },
  {
   "cell_type": "markdown",
   "metadata": {},
   "source": [
    "#### 4. Рост взрослого населения города X имеет нормальное распределение.\n",
    "#### Причем, средний рост равен 174 см, а среднее квадратичное отклонение равно 8 см.\n",
    "#### Какова вероятность того, что случайным образом выбранный взрослый человек имеет рост:\n",
    "#### а). больше 182 см\n",
    "#### б). больше 190 см\n",
    "#### в). от 166 см до 190 см\n",
    "#### г). от 166 см до 182 см\n",
    "#### д). от 158 см до 190 см\n",
    "#### е). не выше 150 см или не ниже 190 см\n",
    "#### ё). не выше 150 см или не ниже 198 см\n",
    "#### ж). ниже 166 см."
   ]
  },
  {
   "cell_type": "markdown",
   "metadata": {},
   "source": [
    "$$M(X) = 174, \\sigma = 8$$"
   ]
  },
  {
   "cell_type": "markdown",
   "metadata": {},
   "source": [
    " $$3\\sigma\\_\\_\\_2\\sigma\\_\\_\\_1\\sigma\\_\\_\\_174\\_\\_\\_1\\sigma\\_\\_\\_2\\sigma\\_\\_\\_3\\sigma$$\n",
    "$$150\\_\\_158\\_\\_166\\_\\_M(X)\\_\\_182\\_\\_190\\_\\_198$$"
   ]
  },
  {
   "cell_type": "markdown",
   "metadata": {},
   "source": [
    "$$-1\\sigma, 1\\sigma = 68 \\% $$\n",
    "$$-2\\sigma, 2\\sigma = 95.4 \\% $$\n",
    "$$-3\\sigma, 3\\sigma = 99.72 \\% $$"
   ]
  },
  {
   "cell_type": "code",
   "execution_count": 48,
   "metadata": {},
   "outputs": [
    {
     "data": {
      "text/plain": [
       "16.0"
      ]
     },
     "execution_count": 48,
     "metadata": {},
     "output_type": "execute_result"
    }
   ],
   "source": [
    "### а) больше 182\n",
    "(100-68)/2"
   ]
  },
  {
   "cell_type": "code",
   "execution_count": 49,
   "metadata": {},
   "outputs": [
    {
     "data": {
      "text/plain": [
       "2.299999999999997"
      ]
     },
     "execution_count": 49,
     "metadata": {},
     "output_type": "execute_result"
    }
   ],
   "source": [
    "### б) больше 190\n",
    "(100-95.4)/2"
   ]
  },
  {
   "cell_type": "code",
   "execution_count": 50,
   "metadata": {},
   "outputs": [
    {
     "data": {
      "text/plain": [
       "81.7"
      ]
     },
     "execution_count": 50,
     "metadata": {},
     "output_type": "execute_result"
    }
   ],
   "source": [
    "### в) от 166 см до 190 см\n",
    "(68+(95.4-68)/2)"
   ]
  },
  {
   "cell_type": "code",
   "execution_count": 41,
   "metadata": {},
   "outputs": [
    {
     "data": {
      "text/plain": [
       "68"
      ]
     },
     "execution_count": 41,
     "metadata": {},
     "output_type": "execute_result"
    }
   ],
   "source": [
    "### г) от 166 см до 182 см\n",
    "68"
   ]
  },
  {
   "cell_type": "code",
   "execution_count": 42,
   "metadata": {},
   "outputs": [
    {
     "data": {
      "text/plain": [
       "95.4"
      ]
     },
     "execution_count": 42,
     "metadata": {},
     "output_type": "execute_result"
    }
   ],
   "source": [
    "### д) от 158 см до 190 см\n",
    "95.4"
   ]
  },
  {
   "cell_type": "code",
   "execution_count": 45,
   "metadata": {},
   "outputs": [
    {
     "data": {
      "text/plain": [
       "2.4399999999999977"
      ]
     },
     "execution_count": 45,
     "metadata": {},
     "output_type": "execute_result"
    }
   ],
   "source": [
    "### е) не выше 150 см или не ниже 190 см\n",
    "(((100-99.72)/2)+((100-95.4)/2))"
   ]
  },
  {
   "cell_type": "code",
   "execution_count": null,
   "metadata": {},
   "outputs": [],
   "source": [
    "### ё) не выше 150 см или не ниже 198 см"
   ]
  },
  {
   "cell_type": "code",
   "execution_count": 46,
   "metadata": {},
   "outputs": [
    {
     "data": {
      "text/plain": [
       "0.28000000000000114"
      ]
     },
     "execution_count": 46,
     "metadata": {},
     "output_type": "execute_result"
    }
   ],
   "source": [
    "100-99.72"
   ]
  },
  {
   "cell_type": "code",
   "execution_count": 54,
   "metadata": {},
   "outputs": [
    {
     "data": {
      "text/plain": [
       "29.560000000000002"
      ]
     },
     "execution_count": 54,
     "metadata": {},
     "output_type": "execute_result"
    }
   ],
   "source": [
    "### ж) ниже 166 см.\n",
    "((100-68)-((100-95.4)/2)-((100-99.72)/2))"
   ]
  },
  {
   "cell_type": "markdown",
   "metadata": {},
   "source": [
    "#### 5. На сколько сигм (средних квадратичных отклонений) отклоняется рост человека, равный 190 см, от математического ожидания роста в популяции, в которой M(X) = 178 см и D(X) = 25 кв.см?"
   ]
  },
  {
   "cell_type": "markdown",
   "metadata": {},
   "source": [
    "$$\\sigma=5$$\n",
    "\n",
    "$$\\frac{190-178}{5}=2.4$$"
   ]
  },
  {
   "cell_type": "code",
   "execution_count": 24,
   "metadata": {},
   "outputs": [
    {
     "data": {
      "text/plain": [
       "2.4"
      ]
     },
     "execution_count": 24,
     "metadata": {},
     "output_type": "execute_result"
    }
   ],
   "source": [
    "(190-178)/5"
   ]
  }
 ],
 "metadata": {
  "kernelspec": {
   "display_name": "Python 3",
   "language": "python",
   "name": "python3"
  },
  "language_info": {
   "codemirror_mode": {
    "name": "ipython",
    "version": 3
   },
   "file_extension": ".py",
   "mimetype": "text/x-python",
   "name": "python",
   "nbconvert_exporter": "python",
   "pygments_lexer": "ipython3",
   "version": "3.7.1"
  }
 },
 "nbformat": 4,
 "nbformat_minor": 2
}
